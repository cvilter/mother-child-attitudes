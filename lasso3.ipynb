{
 "cells": [
  {
   "cell_type": "markdown",
   "id": "5f19a432",
   "metadata": {},
   "source": [
    "## CMSC 35300 Final Project: Lasso Models\n",
    "Shweta Kamath <br>\n",
    "Nivedita Vatsa <br>\n",
    "Carolyn Vilter"
   ]
  },
  {
   "cell_type": "markdown",
   "id": "bf44aa39",
   "metadata": {},
   "source": [
    "#### Setup"
   ]
  },
  {
   "cell_type": "markdown",
   "id": "6451aafc",
   "metadata": {},
   "source": [
    "Source: https://www.geeksforgeeks.org/implementation-of-lasso-regression-from-scratch-using-python/"
   ]
  },
  {
   "cell_type": "code",
   "execution_count": 62,
   "id": "152ce23f",
   "metadata": {},
   "outputs": [],
   "source": [
    "import pandas as pd\n",
    "import numpy as np\n",
    "import matplotlib.pyplot as plt\n",
    "import seaborn as sns"
   ]
  },
  {
   "cell_type": "code",
   "execution_count": 63,
   "id": "ecafe574",
   "metadata": {},
   "outputs": [],
   "source": [
    "# Import data\n",
    "df = pd.read_csv(\"data/all_data_standardized.csv\")"
   ]
  },
  {
   "cell_type": "code",
   "execution_count": 64,
   "id": "035b2290",
   "metadata": {},
   "outputs": [],
   "source": [
    "# Separate out Xs\n",
    "X = df.loc[:, ~df.columns.isin([\"child_id\", \"mother_id\", \"treat_alike_scale\", \"treat_alike_binary\"])]\n",
    "X = X.to_numpy()\n",
    "\n",
    "# add columns of 1s\n",
    "X_ = np.hstack((np.ones((len(X), 1)), X))\n",
    "\n",
    "# Separate out two prospective ys\n",
    "y_scale = df.loc[:, df.columns == \"treat_alike_scale\"]\n",
    "y_scale = y_scale.to_numpy()\n",
    "\n",
    "y_binary = df.loc[:, df.columns == \"treat_alike_binary\"]\n",
    "y_binary = y_binary.to_numpy()"
   ]
  },
  {
   "cell_type": "markdown",
   "id": "590d07bb",
   "metadata": {},
   "source": [
    "### Lasso Regression\n",
    "Predict repeatedly using cross validation; plot test error."
   ]
  },
  {
   "cell_type": "code",
   "execution_count": 65,
   "id": "082ba01a",
   "metadata": {},
   "outputs": [],
   "source": [
    "class LassoRegression():\n",
    "    '''\n",
    "    '''\n",
    "    def __init__(self, learning_rate, iterations, l1_penalty):\n",
    "        '''\n",
    "        '''\n",
    "        self.learning_rate = learning_rate\n",
    "        self.iterations = iterations\n",
    "        self.l1_penalty = l1_penalty\n",
    "        \n",
    "    def fit(self, X, Y):\n",
    "        '''\n",
    "        '''\n",
    "        self.m, self.n = X.shape\n",
    "        \n",
    "        self.w = np.zeros(self.n)\n",
    "        self.b = 0\n",
    "        self.X = X\n",
    "        self.Y = Y\n",
    "        \n",
    "        for i in range(self.iterations):\n",
    "            self.update_weights()\n",
    "        return self\n",
    "    \n",
    "    def update_weights(self):\n",
    "        '''\n",
    "        '''\n",
    "        Y_pred = self.predict(self.X).reshape(self.m, 1)\n",
    "        \n",
    "        dw = np.zeros(self.n)\n",
    "        for j in range(self.n):\n",
    "            X_j = self.X[:, j].reshape(self.m, 1).T\n",
    "            if self.w[j] > 0:\n",
    "                dw[j] = (-(2*(X_j).dot(self.Y - Y_pred)) + self.l1_penalty) / self.m\n",
    "            else:\n",
    "#                 print(\"self.X[:, j]:\", self.X[:, j].shape, X_j.shape)\n",
    "#                 print(\"self.Y:\", self.Y.shape)\n",
    "#                 print(\"Y_pred:\", Y_pred.shape)\n",
    "#                 print(\"self.l1_penalty:\", self.l1_penalty)\n",
    "                \n",
    "                dw[j] = (-(2*(X_j).dot(self.Y - Y_pred)) - self.l1_penalty) / self.m\n",
    "                \n",
    "        db = - 2 * np.sum(self.Y - Y_pred) / self.m\n",
    "        \n",
    "        self.w = self.w - self.learning_rate*dw\n",
    "        self.b = self.b - self.learning_rate*db\n",
    "        \n",
    "        return self\n",
    "    \n",
    "    def predict(self, X):\n",
    "        '''\n",
    "        '''\n",
    "        return X.dot(self.w) + self.b"
   ]
  },
  {
   "cell_type": "code",
   "execution_count": 66,
   "id": "47a1c71b",
   "metadata": {},
   "outputs": [],
   "source": [
    "# class LassoRegression():\n",
    "#     def __init__(self, learning_rate, iterations, l1_penalty):\n",
    "#         self.learning_rate = learning_rate\n",
    "#         self.iterations = iterations\n",
    "#         self.l1_penality = l1_penality\n",
    "        \n",
    "#     # Function for model training          \n",
    "#     def fit(self, X, Y):\n",
    "#         # no_of_training_examples, no_of_features\n",
    "#         self.m, self.n = X.shape\n",
    "        \n",
    "#         # weight initialization\n",
    "#         self.W = np.zeros(self.n)\n",
    "#         self.b = 0\n",
    "#         self.X = X\n",
    "#         self.Y = Y\n",
    "        \n",
    "#         # gradient descent learning\n",
    "#         for i in range(self.iterations):\n",
    "#             self.update_weights()\n",
    "#         return self\n",
    "    \n",
    "#     # update weights in gradient descent\n",
    "#     def update_weights(self):\n",
    "#         Y_pred = self.predict(self.X)\n",
    "        \n",
    "#         # calculate gradients\n",
    "#         dW = np.zeros(self.n)\n",
    "#         for j in range(self.n):\n",
    "#             if self.W[j] > 0 :\n",
    "#                 dW[j] = (-(2*(self.X[:, j]).dot(self.Y - Y_pred)) + self.l1_penality) / self.m\n",
    "#             else:\n",
    "#                 dW[j] = (-(2*(self.X[:, j]).dot(self.Y - Y_pred)) - self.l1_penality ) / self.m\n",
    "        \n",
    "#         db = - 2 * np.sum(self.Y - Y_pred) / self.m\n",
    "        \n",
    "#         # update weights\n",
    "#         self.W = self.W - self.learning_rate * dW\n",
    "#         self.b = self.b - self.learning_rate * db\n",
    "        \n",
    "#         return self\n",
    "    \n",
    "#     # Hypothetical function  h(x)\n",
    "#     def predict(self, X):\n",
    "#         return X.dot(self.W) + self.b"
   ]
  },
  {
   "cell_type": "code",
   "execution_count": 81,
   "id": "16d6b346",
   "metadata": {},
   "outputs": [],
   "source": [
    "lasso = LassoRegression(iterations = 10, learning_rate = 0.00001, l1_penalty = 0.01)"
   ]
  },
  {
   "cell_type": "code",
   "execution_count": 82,
   "id": "74441bd3",
   "metadata": {},
   "outputs": [
    {
     "data": {
      "text/plain": [
       "<__main__.LassoRegression at 0x1d85d766340>"
      ]
     },
     "execution_count": 82,
     "metadata": {},
     "output_type": "execute_result"
    }
   ],
   "source": [
    "lasso.fit(X, y_scale)"
   ]
  },
  {
   "cell_type": "code",
   "execution_count": 83,
   "id": "0f153825",
   "metadata": {},
   "outputs": [
    {
     "data": {
      "text/plain": [
       "array([-4.78683766e+49, -6.25319160e+49, -8.52162755e+49, ...,\n",
       "       -1.20159021e+50, -1.21702750e+50, -6.45381256e+49])"
      ]
     },
     "metadata": {},
     "output_type": "display_data"
    }
   ],
   "source": [
    "y_scale_pred = lasso.predict(X)\n",
    "display(y_scale_pred)"
   ]
  },
  {
   "cell_type": "code",
   "execution_count": 84,
   "id": "606ad56b",
   "metadata": {},
   "outputs": [
    {
     "data": {
      "text/plain": [
       "array([-4.23157156e+43, -2.84029978e+41, -4.45005647e+42, -4.20316856e+43,\n",
       "       -1.70753772e+40, -7.77370443e+40, -3.08331185e+41, -4.25450489e+40,\n",
       "       -5.69621271e+40, -4.50852113e+40, -5.57327623e+40, -5.41315325e+40,\n",
       "       -5.64677971e+40, -4.64180603e+40, -5.43254297e+40, -6.11111392e+40,\n",
       "       -5.51654042e+40, -4.81484327e+40, -5.61266742e+40, -6.39280066e+40,\n",
       "       -5.05140669e+40, -4.92805948e+40, -5.65845708e+40, -3.02908381e+43,\n",
       "       -2.15207689e+41, -1.80176913e+39, -2.37254623e+45, -3.69921041e+39,\n",
       "       -1.37663646e+40, -1.05878359e+40, -1.63827569e+39, -1.29141953e+39,\n",
       "       -8.86609790e+39, -8.76977288e+39, -3.67120658e+38, -3.69921041e+39,\n",
       "       -1.37663646e+40, -9.73844010e+39, -8.46073627e+39, -2.35497859e+39,\n",
       "       -1.09581251e+40, -6.50960553e+39, -2.05226208e+39])"
      ]
     },
     "execution_count": 84,
     "metadata": {},
     "output_type": "execute_result"
    }
   ],
   "source": [
    "lasso.w"
   ]
  },
  {
   "cell_type": "markdown",
   "id": "4b34272a",
   "metadata": {},
   "source": [
    "### Sklearn: Lasso Regression"
   ]
  },
  {
   "cell_type": "code",
   "execution_count": 78,
   "id": "3b1d17a2",
   "metadata": {},
   "outputs": [],
   "source": [
    "from sklearn.linear_model import Lasso"
   ]
  },
  {
   "cell_type": "code",
   "execution_count": 79,
   "id": "a254a1d8",
   "metadata": {},
   "outputs": [
    {
     "name": "stderr",
     "output_type": "stream",
     "text": [
      "C:\\Users\\nived\\AppData\\Local\\Temp/ipykernel_24636/4217246428.py:2: UserWarning: With alpha=0, this algorithm does not converge well. You are advised to use the LinearRegression estimator\n",
      "  lasso_sklearn.fit(X, y_scale)\n",
      "C:\\ProgramData\\Anaconda3\\lib\\site-packages\\sklearn\\linear_model\\_coordinate_descent.py:530: UserWarning: Coordinate descent with no regularization may lead to unexpected results and is discouraged.\n",
      "  model = cd_fast.enet_coordinate_descent(\n",
      "C:\\ProgramData\\Anaconda3\\lib\\site-packages\\sklearn\\linear_model\\_coordinate_descent.py:530: ConvergenceWarning: Objective did not converge. You might want to increase the number of iterations. Duality gap: 1039.4892452078498, tolerance: 0.21572082929664804\n",
      "  model = cd_fast.enet_coordinate_descent(\n"
     ]
    }
   ],
   "source": [
    "lasso_sklearn = Lasso(alpha=0.0)\n",
    "lasso_sklearn.fit(X, y_scale)\n",
    "\n",
    "# predict the value\n",
    "y_pred_sklearn = lasso_sklearn.predict(X)"
   ]
  },
  {
   "cell_type": "code",
   "execution_count": 80,
   "id": "5504496b",
   "metadata": {},
   "outputs": [
    {
     "data": {
      "text/plain": [
       "array([[0.01      ],\n",
       "       [0.01      ],\n",
       "       [0.01      ],\n",
       "       [0.01      ],\n",
       "       [0.01      ],\n",
       "       [0.01      ],\n",
       "       [0.01      ],\n",
       "       [0.01      ],\n",
       "       [0.01      ],\n",
       "       [0.01      ],\n",
       "       [0.01      ],\n",
       "       [0.01      ],\n",
       "       [0.01      ],\n",
       "       [0.01      ],\n",
       "       [0.01      ],\n",
       "       [0.01      ],\n",
       "       [0.01      ],\n",
       "       [0.01      ],\n",
       "       [0.01      ],\n",
       "       [0.01      ],\n",
       "       [0.01      ],\n",
       "       [0.01      ],\n",
       "       [0.01      ],\n",
       "       [0.01      ],\n",
       "       [0.01      ],\n",
       "       [0.01      ],\n",
       "       [0.01      ],\n",
       "       [0.00999999],\n",
       "       [0.01      ],\n",
       "       [0.01      ],\n",
       "       [0.01      ],\n",
       "       [0.01      ],\n",
       "       [0.01      ],\n",
       "       [0.01      ],\n",
       "       [0.01      ],\n",
       "       [0.01      ],\n",
       "       [0.01      ],\n",
       "       [0.01      ],\n",
       "       [0.01      ],\n",
       "       [0.01      ],\n",
       "       [0.01      ],\n",
       "       [0.01      ],\n",
       "       [0.01      ],\n",
       "       [0.01      ]])"
      ]
     },
     "execution_count": 80,
     "metadata": {},
     "output_type": "execute_result"
    }
   ],
   "source": [
    "lasso.w"
   ]
  },
  {
   "cell_type": "code",
   "execution_count": 81,
   "id": "a32f4390",
   "metadata": {},
   "outputs": [
    {
     "data": {
      "text/plain": [
       "array([ 5.94995187e-04,  1.35634886e-02, -1.08825776e-03,  4.85721094e-05,\n",
       "        1.39836672e-02,  1.50124826e-02, -8.63994678e-04,  8.40426453e-03,\n",
       "       -6.40107564e-03,  1.18806410e-02, -1.52450446e-02, -9.55468468e-03,\n",
       "        1.14055111e-02,  2.43584433e-04, -3.77610187e-03, -9.36740753e-03,\n",
       "       -2.46391568e-03,  6.86193072e-03, -2.16529119e-02,  1.80446112e-02,\n",
       "       -1.23826492e-02,  1.41983590e-02,  1.78011922e-02,  1.20634171e-05,\n",
       "       -3.10229225e-03,  6.94608577e-02, -4.42510590e-07,  9.94312398e-03,\n",
       "       -7.29117216e-02, -6.52263996e-02, -2.19961582e-01, -2.89226854e-01,\n",
       "       -3.03937689e-01, -3.62091654e-01, -3.10130511e-01, -5.78312703e-02,\n",
       "       -2.22576257e-02,  4.34554012e-02, -2.86737738e-02,  1.43151504e-02,\n",
       "        8.09763506e-03, -3.30367233e-03, -1.42992769e-03])"
      ]
     },
     "execution_count": 81,
     "metadata": {},
     "output_type": "execute_result"
    }
   ],
   "source": [
    "lasso_sklearn.coef_"
   ]
  },
  {
   "cell_type": "code",
   "execution_count": 82,
   "id": "23d93378",
   "metadata": {},
   "outputs": [
    {
     "data": {
      "text/plain": [
       "2.038457258659307"
      ]
     },
     "execution_count": 82,
     "metadata": {},
     "output_type": "execute_result"
    }
   ],
   "source": [
    "np.max(y_pred_sklearn)"
   ]
  }
 ],
 "metadata": {
  "kernelspec": {
   "display_name": "Python 3 (ipykernel)",
   "language": "python",
   "name": "python3"
  },
  "language_info": {
   "codemirror_mode": {
    "name": "ipython",
    "version": 3
   },
   "file_extension": ".py",
   "mimetype": "text/x-python",
   "name": "python",
   "nbconvert_exporter": "python",
   "pygments_lexer": "ipython3",
   "version": "3.9.7"
  }
 },
 "nbformat": 4,
 "nbformat_minor": 5
}
