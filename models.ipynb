{
 "cells": [
  {
   "cell_type": "markdown",
   "metadata": {},
   "source": [
    "## CMSC 35300 Final Project: Least Squares Models\n",
    "Shweta Kamath <br>\n",
    "Nivedita Vatsa <br>\n",
    "Carolyn Vilter"
   ]
  },
  {
   "cell_type": "markdown",
   "metadata": {},
   "source": [
    "#### Setup"
   ]
  },
  {
   "cell_type": "code",
   "execution_count": 688,
   "metadata": {},
   "outputs": [],
   "source": [
    "import pandas as pd\n",
    "import numpy as np\n",
    "import matplotlib.pyplot as plt"
   ]
  },
  {
   "cell_type": "code",
   "execution_count": 689,
   "metadata": {},
   "outputs": [],
   "source": [
    "# Import combined, cleaned, standardized data\n",
    "df = pd.read_csv(\"data/all_data_standardized.csv\")"
   ]
  },
  {
   "cell_type": "code",
   "execution_count": 690,
   "metadata": {},
   "outputs": [
    {
     "data": {
      "text/html": [
       "<div>\n",
       "<style scoped>\n",
       "    .dataframe tbody tr th:only-of-type {\n",
       "        vertical-align: middle;\n",
       "    }\n",
       "\n",
       "    .dataframe tbody tr th {\n",
       "        vertical-align: top;\n",
       "    }\n",
       "\n",
       "    .dataframe thead th {\n",
       "        text-align: right;\n",
       "    }\n",
       "</style>\n",
       "<table border=\"1\" class=\"dataframe\">\n",
       "  <thead>\n",
       "    <tr style=\"text-align: right;\">\n",
       "      <th></th>\n",
       "      <th>child_id</th>\n",
       "      <th>mother_id</th>\n",
       "      <th>treat_alike_scale</th>\n",
       "      <th>treat_alike_binary</th>\n",
       "      <th>year_at_y</th>\n",
       "      <th>gap_at_y</th>\n",
       "      <th>self_worth</th>\n",
       "      <th>yob_child</th>\n",
       "      <th>father_present</th>\n",
       "      <th>religion_freq</th>\n",
       "      <th>...</th>\n",
       "      <th>highest_expected_grade_GET MORE THAN 4 YEARS OF COLLEGE</th>\n",
       "      <th>highest_expected_grade_SOMETHING ELSE</th>\n",
       "      <th>mother_race_BLACK</th>\n",
       "      <th>mother_race_NON-BLACK, NON-HISPANIC</th>\n",
       "      <th>mother_relig_raised_protestant</th>\n",
       "      <th>mother_relig_raised_catholic</th>\n",
       "      <th>mother_relig_raised_other</th>\n",
       "      <th>mother_relig_current_protestant</th>\n",
       "      <th>mother_relig_current_catholic</th>\n",
       "      <th>mother_relig_current_other</th>\n",
       "    </tr>\n",
       "  </thead>\n",
       "  <tbody>\n",
       "    <tr>\n",
       "      <th>0</th>\n",
       "      <td>301</td>\n",
       "      <td>3</td>\n",
       "      <td>2</td>\n",
       "      <td>1</td>\n",
       "      <td>0.0</td>\n",
       "      <td>0.5</td>\n",
       "      <td>0.555556</td>\n",
       "      <td>0.045455</td>\n",
       "      <td>1.000000</td>\n",
       "      <td>0.2</td>\n",
       "      <td>...</td>\n",
       "      <td>0</td>\n",
       "      <td>0</td>\n",
       "      <td>0</td>\n",
       "      <td>1</td>\n",
       "      <td>0</td>\n",
       "      <td>1</td>\n",
       "      <td>0</td>\n",
       "      <td>0</td>\n",
       "      <td>1</td>\n",
       "      <td>0</td>\n",
       "    </tr>\n",
       "    <tr>\n",
       "      <th>1</th>\n",
       "      <td>302</td>\n",
       "      <td>3</td>\n",
       "      <td>1</td>\n",
       "      <td>1</td>\n",
       "      <td>0.1</td>\n",
       "      <td>0.5</td>\n",
       "      <td>1.000000</td>\n",
       "      <td>0.136364</td>\n",
       "      <td>1.000000</td>\n",
       "      <td>0.5</td>\n",
       "      <td>...</td>\n",
       "      <td>0</td>\n",
       "      <td>0</td>\n",
       "      <td>0</td>\n",
       "      <td>1</td>\n",
       "      <td>0</td>\n",
       "      <td>1</td>\n",
       "      <td>0</td>\n",
       "      <td>0</td>\n",
       "      <td>1</td>\n",
       "      <td>0</td>\n",
       "    </tr>\n",
       "    <tr>\n",
       "      <th>2</th>\n",
       "      <td>303</td>\n",
       "      <td>3</td>\n",
       "      <td>1</td>\n",
       "      <td>1</td>\n",
       "      <td>0.3</td>\n",
       "      <td>1.0</td>\n",
       "      <td>0.888889</td>\n",
       "      <td>0.272727</td>\n",
       "      <td>1.000000</td>\n",
       "      <td>0.8</td>\n",
       "      <td>...</td>\n",
       "      <td>0</td>\n",
       "      <td>0</td>\n",
       "      <td>0</td>\n",
       "      <td>1</td>\n",
       "      <td>0</td>\n",
       "      <td>1</td>\n",
       "      <td>0</td>\n",
       "      <td>0</td>\n",
       "      <td>0</td>\n",
       "      <td>1</td>\n",
       "    </tr>\n",
       "    <tr>\n",
       "      <th>3</th>\n",
       "      <td>803</td>\n",
       "      <td>8</td>\n",
       "      <td>1</td>\n",
       "      <td>1</td>\n",
       "      <td>0.1</td>\n",
       "      <td>1.0</td>\n",
       "      <td>0.611111</td>\n",
       "      <td>0.090909</td>\n",
       "      <td>0.363636</td>\n",
       "      <td>0.2</td>\n",
       "      <td>...</td>\n",
       "      <td>0</td>\n",
       "      <td>0</td>\n",
       "      <td>0</td>\n",
       "      <td>1</td>\n",
       "      <td>0</td>\n",
       "      <td>0</td>\n",
       "      <td>1</td>\n",
       "      <td>1</td>\n",
       "      <td>0</td>\n",
       "      <td>0</td>\n",
       "    </tr>\n",
       "    <tr>\n",
       "      <th>4</th>\n",
       "      <td>1601</td>\n",
       "      <td>16</td>\n",
       "      <td>1</td>\n",
       "      <td>1</td>\n",
       "      <td>0.5</td>\n",
       "      <td>1.0</td>\n",
       "      <td>0.666667</td>\n",
       "      <td>0.454545</td>\n",
       "      <td>1.000000</td>\n",
       "      <td>0.6</td>\n",
       "      <td>...</td>\n",
       "      <td>0</td>\n",
       "      <td>0</td>\n",
       "      <td>0</td>\n",
       "      <td>1</td>\n",
       "      <td>0</td>\n",
       "      <td>1</td>\n",
       "      <td>0</td>\n",
       "      <td>0</td>\n",
       "      <td>1</td>\n",
       "      <td>0</td>\n",
       "    </tr>\n",
       "    <tr>\n",
       "      <th>...</th>\n",
       "      <td>...</td>\n",
       "      <td>...</td>\n",
       "      <td>...</td>\n",
       "      <td>...</td>\n",
       "      <td>...</td>\n",
       "      <td>...</td>\n",
       "      <td>...</td>\n",
       "      <td>...</td>\n",
       "      <td>...</td>\n",
       "      <td>...</td>\n",
       "      <td>...</td>\n",
       "      <td>...</td>\n",
       "      <td>...</td>\n",
       "      <td>...</td>\n",
       "      <td>...</td>\n",
       "      <td>...</td>\n",
       "      <td>...</td>\n",
       "      <td>...</td>\n",
       "      <td>...</td>\n",
       "      <td>...</td>\n",
       "      <td>...</td>\n",
       "    </tr>\n",
       "    <tr>\n",
       "      <th>5156</th>\n",
       "      <td>1255801</td>\n",
       "      <td>12558</td>\n",
       "      <td>2</td>\n",
       "      <td>1</td>\n",
       "      <td>0.4</td>\n",
       "      <td>0.5</td>\n",
       "      <td>1.000000</td>\n",
       "      <td>0.409091</td>\n",
       "      <td>0.000000</td>\n",
       "      <td>1.0</td>\n",
       "      <td>...</td>\n",
       "      <td>0</td>\n",
       "      <td>0</td>\n",
       "      <td>1</td>\n",
       "      <td>0</td>\n",
       "      <td>0</td>\n",
       "      <td>0</td>\n",
       "      <td>1</td>\n",
       "      <td>0</td>\n",
       "      <td>0</td>\n",
       "      <td>1</td>\n",
       "    </tr>\n",
       "    <tr>\n",
       "      <th>5157</th>\n",
       "      <td>1256602</td>\n",
       "      <td>12566</td>\n",
       "      <td>2</td>\n",
       "      <td>1</td>\n",
       "      <td>0.2</td>\n",
       "      <td>0.5</td>\n",
       "      <td>0.888889</td>\n",
       "      <td>0.227273</td>\n",
       "      <td>1.000000</td>\n",
       "      <td>1.0</td>\n",
       "      <td>...</td>\n",
       "      <td>0</td>\n",
       "      <td>0</td>\n",
       "      <td>1</td>\n",
       "      <td>0</td>\n",
       "      <td>1</td>\n",
       "      <td>0</td>\n",
       "      <td>0</td>\n",
       "      <td>1</td>\n",
       "      <td>0</td>\n",
       "      <td>0</td>\n",
       "    </tr>\n",
       "    <tr>\n",
       "      <th>5158</th>\n",
       "      <td>1256603</td>\n",
       "      <td>12566</td>\n",
       "      <td>1</td>\n",
       "      <td>1</td>\n",
       "      <td>0.4</td>\n",
       "      <td>1.0</td>\n",
       "      <td>0.888889</td>\n",
       "      <td>0.363636</td>\n",
       "      <td>0.888889</td>\n",
       "      <td>1.0</td>\n",
       "      <td>...</td>\n",
       "      <td>1</td>\n",
       "      <td>0</td>\n",
       "      <td>1</td>\n",
       "      <td>0</td>\n",
       "      <td>1</td>\n",
       "      <td>0</td>\n",
       "      <td>0</td>\n",
       "      <td>1</td>\n",
       "      <td>0</td>\n",
       "      <td>0</td>\n",
       "    </tr>\n",
       "    <tr>\n",
       "      <th>5159</th>\n",
       "      <td>1256604</td>\n",
       "      <td>12566</td>\n",
       "      <td>1</td>\n",
       "      <td>1</td>\n",
       "      <td>0.5</td>\n",
       "      <td>0.0</td>\n",
       "      <td>0.944444</td>\n",
       "      <td>0.545455</td>\n",
       "      <td>0.714286</td>\n",
       "      <td>1.0</td>\n",
       "      <td>...</td>\n",
       "      <td>1</td>\n",
       "      <td>0</td>\n",
       "      <td>1</td>\n",
       "      <td>0</td>\n",
       "      <td>1</td>\n",
       "      <td>0</td>\n",
       "      <td>0</td>\n",
       "      <td>1</td>\n",
       "      <td>0</td>\n",
       "      <td>0</td>\n",
       "    </tr>\n",
       "    <tr>\n",
       "      <th>5160</th>\n",
       "      <td>1266703</td>\n",
       "      <td>12667</td>\n",
       "      <td>2</td>\n",
       "      <td>1</td>\n",
       "      <td>0.3</td>\n",
       "      <td>0.5</td>\n",
       "      <td>0.611111</td>\n",
       "      <td>0.318182</td>\n",
       "      <td>0.000000</td>\n",
       "      <td>0.0</td>\n",
       "      <td>...</td>\n",
       "      <td>1</td>\n",
       "      <td>0</td>\n",
       "      <td>0</td>\n",
       "      <td>0</td>\n",
       "      <td>0</td>\n",
       "      <td>1</td>\n",
       "      <td>0</td>\n",
       "      <td>0</td>\n",
       "      <td>1</td>\n",
       "      <td>0</td>\n",
       "    </tr>\n",
       "  </tbody>\n",
       "</table>\n",
       "<p>5161 rows × 47 columns</p>\n",
       "</div>"
      ],
      "text/plain": [
       "      child_id  mother_id  treat_alike_scale  treat_alike_binary  year_at_y  \\\n",
       "0          301          3                  2                   1        0.0   \n",
       "1          302          3                  1                   1        0.1   \n",
       "2          303          3                  1                   1        0.3   \n",
       "3          803          8                  1                   1        0.1   \n",
       "4         1601         16                  1                   1        0.5   \n",
       "...        ...        ...                ...                 ...        ...   \n",
       "5156   1255801      12558                  2                   1        0.4   \n",
       "5157   1256602      12566                  2                   1        0.2   \n",
       "5158   1256603      12566                  1                   1        0.4   \n",
       "5159   1256604      12566                  1                   1        0.5   \n",
       "5160   1266703      12667                  2                   1        0.3   \n",
       "\n",
       "      gap_at_y  self_worth  yob_child  father_present  religion_freq  ...  \\\n",
       "0          0.5    0.555556   0.045455        1.000000            0.2  ...   \n",
       "1          0.5    1.000000   0.136364        1.000000            0.5  ...   \n",
       "2          1.0    0.888889   0.272727        1.000000            0.8  ...   \n",
       "3          1.0    0.611111   0.090909        0.363636            0.2  ...   \n",
       "4          1.0    0.666667   0.454545        1.000000            0.6  ...   \n",
       "...        ...         ...        ...             ...            ...  ...   \n",
       "5156       0.5    1.000000   0.409091        0.000000            1.0  ...   \n",
       "5157       0.5    0.888889   0.227273        1.000000            1.0  ...   \n",
       "5158       1.0    0.888889   0.363636        0.888889            1.0  ...   \n",
       "5159       0.0    0.944444   0.545455        0.714286            1.0  ...   \n",
       "5160       0.5    0.611111   0.318182        0.000000            0.0  ...   \n",
       "\n",
       "      highest_expected_grade_GET MORE THAN 4 YEARS OF COLLEGE  \\\n",
       "0                                                     0         \n",
       "1                                                     0         \n",
       "2                                                     0         \n",
       "3                                                     0         \n",
       "4                                                     0         \n",
       "...                                                 ...         \n",
       "5156                                                  0         \n",
       "5157                                                  0         \n",
       "5158                                                  1         \n",
       "5159                                                  1         \n",
       "5160                                                  1         \n",
       "\n",
       "      highest_expected_grade_SOMETHING ELSE  mother_race_BLACK  \\\n",
       "0                                         0                  0   \n",
       "1                                         0                  0   \n",
       "2                                         0                  0   \n",
       "3                                         0                  0   \n",
       "4                                         0                  0   \n",
       "...                                     ...                ...   \n",
       "5156                                      0                  1   \n",
       "5157                                      0                  1   \n",
       "5158                                      0                  1   \n",
       "5159                                      0                  1   \n",
       "5160                                      0                  0   \n",
       "\n",
       "      mother_race_NON-BLACK, NON-HISPANIC  mother_relig_raised_protestant  \\\n",
       "0                                       1                               0   \n",
       "1                                       1                               0   \n",
       "2                                       1                               0   \n",
       "3                                       1                               0   \n",
       "4                                       1                               0   \n",
       "...                                   ...                             ...   \n",
       "5156                                    0                               0   \n",
       "5157                                    0                               1   \n",
       "5158                                    0                               1   \n",
       "5159                                    0                               1   \n",
       "5160                                    0                               0   \n",
       "\n",
       "      mother_relig_raised_catholic  mother_relig_raised_other  \\\n",
       "0                                1                          0   \n",
       "1                                1                          0   \n",
       "2                                1                          0   \n",
       "3                                0                          1   \n",
       "4                                1                          0   \n",
       "...                            ...                        ...   \n",
       "5156                             0                          1   \n",
       "5157                             0                          0   \n",
       "5158                             0                          0   \n",
       "5159                             0                          0   \n",
       "5160                             1                          0   \n",
       "\n",
       "      mother_relig_current_protestant  mother_relig_current_catholic  \\\n",
       "0                                   0                              1   \n",
       "1                                   0                              1   \n",
       "2                                   0                              0   \n",
       "3                                   1                              0   \n",
       "4                                   0                              1   \n",
       "...                               ...                            ...   \n",
       "5156                                0                              0   \n",
       "5157                                1                              0   \n",
       "5158                                1                              0   \n",
       "5159                                1                              0   \n",
       "5160                                0                              1   \n",
       "\n",
       "      mother_relig_current_other  \n",
       "0                              0  \n",
       "1                              0  \n",
       "2                              1  \n",
       "3                              0  \n",
       "4                              0  \n",
       "...                          ...  \n",
       "5156                           1  \n",
       "5157                           0  \n",
       "5158                           0  \n",
       "5159                           0  \n",
       "5160                           0  \n",
       "\n",
       "[5161 rows x 47 columns]"
      ]
     },
     "execution_count": 690,
     "metadata": {},
     "output_type": "execute_result"
    }
   ],
   "source": [
    "df"
   ]
  },
  {
   "cell_type": "code",
   "execution_count": 691,
   "metadata": {},
   "outputs": [],
   "source": [
    "# Separate out Xs\n",
    "X = df.loc[:, ~df.columns.isin([\"child_id\", \"mother_id\", \"treat_alike_scale\", \"treat_alike_binary\"])]\n",
    "X = X.to_numpy()\n",
    "\n",
    "# Separate out two prospective ys\n",
    "y_scale = df.loc[:, df.columns == \"treat_alike_scale\"]\n",
    "y_scale = y_scale.to_numpy()\n",
    "\n",
    "y_binary = df.loc[:, df.columns == \"treat_alike_binary\"]\n",
    "y_binary = y_binary.to_numpy()"
   ]
  },
  {
   "cell_type": "code",
   "execution_count": 692,
   "metadata": {},
   "outputs": [
    {
     "data": {
      "text/plain": [
       "(5161, 43)"
      ]
     },
     "execution_count": 692,
     "metadata": {},
     "output_type": "execute_result"
    }
   ],
   "source": [
    "X.shape"
   ]
  },
  {
   "cell_type": "markdown",
   "metadata": {},
   "source": [
    "### Least Squares\n",
    "Predict repeatedly using cross validation; plot test error."
   ]
  },
  {
   "cell_type": "code",
   "execution_count": 693,
   "metadata": {},
   "outputs": [],
   "source": [
    "def perform_ls(N, y):\n",
    "    '''\n",
    "    Performs least squares with cross validation over N iterations using the indicated\n",
    "    y variable (of the two choices \"y_binary\" and \"y_scale\"). \n",
    "    \n",
    "    Prints three plots:\n",
    "        \"Distribution of Predicted Labels Over N Iterations\"\n",
    "        \"Distribution of True Labels\"\n",
    "        \"Distribution of Test Error Over N Iterations\"\n",
    "    And returns two pieces of information:\n",
    "        Average error rate over all iterations\n",
    "        Best w-hat from all iterations (w-hat associated with the lowest error)\n",
    "    '''\n",
    "\n",
    "    # Store error values\n",
    "    errs = np.zeros(N)\n",
    "    min_err = 1\n",
    "    # Store best w-hat (associated with lowest error)\n",
    "    best_w_hat = None\n",
    "    # Number of observations/samples\n",
    "    n = X.shape[0]\n",
    "    # Chosen number of sets to divide dataset into\n",
    "    n_sets = 10\n",
    "    # Final index of the training set (9 of 10 subsets)\n",
    "    t_index = n//n_sets*(n_sets-1)\n",
    "    # Dict to count frequencies of each label in yhats\n",
    "    if y == \"y_scale\":\n",
    "        yhat_labels = {1: 0, 2: 0, 3: 0, 4: 0}\n",
    "    if y == \"y_binary\":\n",
    "        yhat_labels = {-1: 0, 1: 0}\n",
    "\n",
    "    for i in range(N):\n",
    "\n",
    "        y_array = eval(y) # evaluate y function argument as a variable\n",
    "\n",
    "        # (Re)assign training and hold-out indices\n",
    "        r = np.random.permutation(n)\n",
    "        it = r[:t_index]\n",
    "        ih = r[t_index:]\n",
    "\n",
    "        # Training data\n",
    "        Xt = X[it, :]\n",
    "\n",
    "        # Find w-hat using using training y_scale\n",
    "        yt = y_array[it]\n",
    "        wt_hat = np.linalg.inv(Xt.T@Xt)@Xt.T@yt\n",
    "\n",
    "        # Apply w-hat to holdout data\n",
    "        Xh = X[ih, :]\n",
    "        yh = y_array[ih]\n",
    "        yhat = Xh@wt_hat\n",
    "\n",
    "        # Assign y-hat results to closest label\n",
    "        # 1, 2, 3, or 4\n",
    "        if y == \"y_scale\":\n",
    "            for idx, pred in enumerate(yhat):\n",
    "                dists = []\n",
    "                for label in range(1, 5):\n",
    "                    dists.append(abs(pred - label))\n",
    "                match = dists.index(min(dists))\n",
    "                yhat[idx] = match + 1\n",
    "        # -1 or 1\n",
    "        if y == \"y_binary\":\n",
    "            for idx, pred in enumerate(yhat):\n",
    "                dists = []\n",
    "                for label in [-1, 1]:\n",
    "                    dists.append(abs(pred - label))\n",
    "                match = dists.index(min(dists))\n",
    "                if match == 0:\n",
    "                    yhat[idx] = -1\n",
    "                if match == 1:\n",
    "                    yhat[idx] = 1\n",
    "\n",
    "        error = np.mean(yhat != yh)\n",
    "        errs[i] = error\n",
    "        if error < min_err:\n",
    "            min_err = error\n",
    "            best_w_hat = wt_hat\n",
    "\n",
    "        # Count prediction frequency for each label \n",
    "        for prediction in yhat:\n",
    "            yhat_labels[prediction[0]] += 1\n",
    "        \n",
    "    # Unpack label prediction counts\n",
    "    labels = []\n",
    "    counts = []\n",
    "    for label, count in yhat_labels.items():\n",
    "        labels.append(label)\n",
    "        counts.append(count)\n",
    "\n",
    "    # Plot label prediction counts\n",
    "    plt.bar(labels, counts)\n",
    "    plt.xlabel('Predicted label')\n",
    "    plt.ylabel('Frequency over {:.0f} iterations)'.format(N))\n",
    "    plt.title('Distribution of Predicted Labels Over {:.0f} Iterations'.format(N))\n",
    "    plt.show()\n",
    "\n",
    "    # Convert into bar-chart data setup for graphic consistency\n",
    "    if y == \"y_scale\":\n",
    "        labels_actual = [1, 2, 3, 4]\n",
    "        counts_actual = [0, 0, 0, 0]\n",
    "    if y == \"y_binary\":\n",
    "        labels_actual = [-1, 1]\n",
    "        counts_actual = [0, 0]\n",
    "    for label in y_array:\n",
    "        if y == \"y_scale\":\n",
    "            idx = label[0]-1\n",
    "        if y == \"y_binary\":\n",
    "            if label == -1:\n",
    "                idx = 0\n",
    "            if label == 1:\n",
    "                idx = 1\n",
    "        counts_actual[idx] += 1\n",
    "\n",
    "    # Plot counts of true labels\n",
    "    plt.bar(labels_actual, counts_actual)\n",
    "    plt.xlabel('True label')\n",
    "    plt.ylabel('Frequency')\n",
    "    plt.title('Distribution of True Labels')\n",
    "    plt.show()\n",
    "\n",
    "    avg_err = np.mean(errs)\n",
    "\n",
    "    # Plot histogram of error rates\n",
    "    plt.hist(errs, density=True, bins=8)\n",
    "    plt.xlim(0, 1)\n",
    "    plt.xlabel('Error rate')\n",
    "    plt.ylabel('Frequency over {:.0f} iterations'.format(N))\n",
    "    plt.title('Distribution of Test Error Over {:.0f} Iterations. Mean = {:.5f}'.format(N, avg_err))\n",
    "    plt.show()\n",
    "\n",
    "    return(avg_err, best_w_hat, min_err)"
   ]
  },
  {
   "cell_type": "code",
   "execution_count": 694,
   "metadata": {},
   "outputs": [],
   "source": [
    "# set N for both models\n",
    "N = 100"
   ]
  },
  {
   "cell_type": "code",
   "execution_count": 695,
   "metadata": {},
   "outputs": [
    {
     "data": {
      "image/png": "[encoded data removed]",
      "text/plain": [
       "<Figure size 432x288 with 1 Axes>"
      ]
     },
     "metadata": {
      "needs_background": "light"
     },
     "output_type": "display_data"
    },
    {
     "data": {
      "image/png": "[encoded data removed]",
      "text/plain": [
       "<Figure size 432x288 with 1 Axes>"
      ]
     },
     "metadata": {
      "needs_background": "light"
     },
     "output_type": "display_data"
    },
    {
     "data": {
      "image/png": "[encoded data removed]",
      "text/plain": [
       "<Figure size 432x288 with 1 Axes>"
      ]
     },
     "metadata": {
      "needs_background": "light"
     },
     "output_type": "display_data"
    }
   ],
   "source": [
    "avg_err, best_w_hat, min_err = perform_ls(N, \"y_scale\")"
   ]
  },
  {
   "cell_type": "code",
   "execution_count": 696,
   "metadata": {},
   "outputs": [
    {
     "name": "stdout",
     "output_type": "stream",
     "text": [
      "Average error rate over all iterations: 0.6060541586073501\n"
     ]
    }
   ],
   "source": [
    "print(\"Average error rate over all iterations:\", avg_err)"
   ]
  },
  {
   "cell_type": "code",
   "execution_count": 697,
   "metadata": {},
   "outputs": [
    {
     "name": "stdout",
     "output_type": "stream",
     "text": [
      "Minimum error ever achieved: 0.31721470019342357\n"
     ]
    }
   ],
   "source": [
    "print(\"Minimum error ever achieved:\", min_err)"
   ]
  },
  {
   "cell_type": "code",
   "execution_count": 698,
   "metadata": {},
   "outputs": [
    {
     "data": {
      "text/plain": [
       "array([[-4.14836049e+20],\n",
       "       [ 4.64001102e+19],\n",
       "       [ 2.68394370e+18],\n",
       "       [ 4.74739494e+20],\n",
       "       [-2.53815042e+18],\n",
       "       [ 8.13366611e+18],\n",
       "       [-5.01435608e+20],\n",
       "       [-9.83419516e+18],\n",
       "       [ 7.61875637e+18],\n",
       "       [ 4.49323624e+18],\n",
       "       [-5.95040489e+16],\n",
       "       [ 1.40668426e+18],\n",
       "       [-2.10295119e+18],\n",
       "       [-3.90270855e+18],\n",
       "       [ 6.27562568e+18],\n",
       "       [ 3.26636494e+18],\n",
       "       [ 1.34696664e+18],\n",
       "       [ 3.78320734e+18],\n",
       "       [-4.58459464e+18],\n",
       "       [ 4.24343967e+18],\n",
       "       [ 2.10667209e+19],\n",
       "       [-6.64273895e+18],\n",
       "       [ 6.16679801e+17],\n",
       "       [ 3.85015185e+18],\n",
       "       [ 8.11399082e+18],\n",
       "       [-6.08529375e+18],\n",
       "       [ 5.51412260e+19],\n",
       "       [-5.29014241e+19],\n",
       "       [-8.15777819e+19],\n",
       "       [-6.62830629e+01],\n",
       "       [ 7.71453390e+04],\n",
       "       [ 6.52731165e+04],\n",
       "       [ 6.29911567e+04],\n",
       "       [ 6.26284597e+04],\n",
       "       [ 7.30671930e+04],\n",
       "       [ 5.29014241e+19],\n",
       "       [ 8.38791213e+19],\n",
       "       [ 6.53477004e+03],\n",
       "       [ 8.79064644e+03],\n",
       "       [ 6.57917256e+03],\n",
       "       [-2.88222562e+02],\n",
       "       [-8.61370495e+02],\n",
       "       [-2.93814021e+02]])"
      ]
     },
     "execution_count": 698,
     "metadata": {},
     "output_type": "execute_result"
    }
   ],
   "source": [
    "best_w_hat "
   ]
  },
  {
   "cell_type": "code",
   "execution_count": 699,
   "metadata": {},
   "outputs": [
    {
     "data": {
      "image/png": "[encoded data removed]",
      "text/plain": [
       "<Figure size 432x288 with 1 Axes>"
      ]
     },
     "metadata": {
      "needs_background": "light"
     },
     "output_type": "display_data"
    },
    {
     "data": {
      "image/png": "[encoded data removed]",
      "text/plain": [
       "<Figure size 432x288 with 1 Axes>"
      ]
     },
     "metadata": {
      "needs_background": "light"
     },
     "output_type": "display_data"
    },
    {
     "data": {
      "image/png": "[encoded data removed]",
      "text/plain": [
       "<Figure size 432x288 with 1 Axes>"
      ]
     },
     "metadata": {
      "needs_background": "light"
     },
     "output_type": "display_data"
    }
   ],
   "source": [
    "avg_err, best_w_hat, min_err = perform_ls(N, \"y_binary\")"
   ]
  },
  {
   "cell_type": "code",
   "execution_count": 700,
   "metadata": {},
   "outputs": [
    {
     "name": "stdout",
     "output_type": "stream",
     "text": [
      "Average error rate over all iterations: 0.5826305609284331\n"
     ]
    }
   ],
   "source": [
    "print(\"Average error rate over all iterations:\", avg_err)"
   ]
  },
  {
   "cell_type": "code",
   "execution_count": 701,
   "metadata": {},
   "outputs": [
    {
     "name": "stdout",
     "output_type": "stream",
     "text": [
      "Minimum error ever achieved: 0.09090909090909091\n"
     ]
    }
   ],
   "source": [
    "print(\"Minimum error ever achieved:\", min_err)"
   ]
  },
  {
   "cell_type": "code",
   "execution_count": 702,
   "metadata": {},
   "outputs": [
    {
     "data": {
      "text/plain": [
       "array([[ 3.52508741e+02],\n",
       "       [-4.20852827e+01],\n",
       "       [ 3.13932718e+01],\n",
       "       [-3.57703471e+02],\n",
       "       [ 2.32248442e+00],\n",
       "       [-1.76372108e+00],\n",
       "       [ 1.12093623e+02],\n",
       "       [ 7.64657054e-01],\n",
       "       [-4.78974781e+00],\n",
       "       [ 1.08640675e+01],\n",
       "       [ 8.30359921e+00],\n",
       "       [-7.41730844e+00],\n",
       "       [ 6.48185991e-01],\n",
       "       [ 5.43495695e+00],\n",
       "       [-2.33360751e+00],\n",
       "       [ 2.62166979e+01],\n",
       "       [-6.57853273e+00],\n",
       "       [-7.15464362e+00],\n",
       "       [-1.09979929e+01],\n",
       "       [ 6.48822335e+00],\n",
       "       [ 3.42685480e+00],\n",
       "       [-4.12624980e+00],\n",
       "       [ 2.27254979e+00],\n",
       "       [-8.98036989e+00],\n",
       "       [-1.07794079e+00],\n",
       "       [-1.11595288e-01],\n",
       "       [-5.57597511e+00],\n",
       "       [-5.53899687e+15],\n",
       "       [ 9.46106464e+13],\n",
       "       [ 2.95427461e-01],\n",
       "       [-2.11153585e+00],\n",
       "       [-2.07175990e+00],\n",
       "       [-2.12452651e+00],\n",
       "       [-2.14648854e+00],\n",
       "       [-2.17809805e+00],\n",
       "       [ 5.53899687e+15],\n",
       "       [-9.46106464e+13],\n",
       "       [ 5.77705386e+00],\n",
       "       [ 5.13626499e+00],\n",
       "       [ 5.65884092e+00],\n",
       "       [ 5.65325772e-01],\n",
       "       [ 1.75104498e+00],\n",
       "       [-1.67510285e+00]])"
      ]
     },
     "execution_count": 702,
     "metadata": {},
     "output_type": "execute_result"
    }
   ],
   "source": [
    "best_w_hat"
   ]
  }
 ],
 "metadata": {
  "kernelspec": {
   "display_name": "Python 3.9.13 64-bit",
   "language": "python",
   "name": "python3"
  },
  "language_info": {
   "codemirror_mode": {
    "name": "ipython",
    "version": 3
   },
   "file_extension": ".py",
   "mimetype": "text/x-python",
   "name": "python",
   "nbconvert_exporter": "python",
   "pygments_lexer": "ipython3",
   "version": "3.9.13"
  },
  "orig_nbformat": 4,
  "vscode": {
   "interpreter": {
    "hash": "b0fa6594d8f4cbf19f97940f81e996739fb7646882a419484c72d19e05852a7e"
   }
  }
 },
 "nbformat": 4,
 "nbformat_minor": 2
}
