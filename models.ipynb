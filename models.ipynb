{
 "cells": [
  {
   "cell_type": "markdown",
   "metadata": {},
   "source": [
    "## CMSC 35300 Final Project: Models\n",
    "Shweta Kamath <br>\n",
    "Nivedita Vatsa <br>\n",
    "Carolyn Vilter"
   ]
  },
  {
   "cell_type": "markdown",
   "metadata": {},
   "source": [
    "#### Setup"
   ]
  },
  {
   "cell_type": "code",
   "execution_count": 296,
   "metadata": {},
   "outputs": [],
   "source": [
    "import pandas as pd\n",
    "import numpy as np\n",
    "import matplotlib.pyplot as plt"
   ]
  },
  {
   "cell_type": "code",
   "execution_count": 297,
   "metadata": {},
   "outputs": [],
   "source": [
    "# Import data\n",
    "df = pd.read_csv(\"data/all_data.csv\")"
   ]
  },
  {
   "cell_type": "code",
   "execution_count": 298,
   "metadata": {},
   "outputs": [],
   "source": [
    "# Separate out Xs\n",
    "X = df.loc[:, ~df.columns.isin([\"child_id\", \"mother_id\", \"treat_alike_scale\", \"treat_alike_binary\"])]\n",
    "X = X.to_numpy()\n",
    "\n",
    "# Separate out two prospective ys\n",
    "y_scale = df.loc[:, df.columns == \"treat_alike_scale\"]\n",
    "y_scale = y_scale.to_numpy()\n",
    "\n",
    "y_binary = df.loc[:, df.columns == \"treat_alike_binary\"]\n",
    "y_binary = y_binary.to_numpy()"
   ]
  },
  {
   "cell_type": "markdown",
   "metadata": {},
   "source": [
    "### Least Squares\n",
    "Predict repeatedly using cross validation; plot test error."
   ]
  },
  {
   "cell_type": "code",
   "execution_count": 299,
   "metadata": {},
   "outputs": [],
   "source": [
    "# Number of random trials\n",
    "N = 100\n",
    "# Store error values\n",
    "errs = np.zeros(N)\n",
    "# Number of observations/samples\n",
    "n = X.shape[0]\n",
    "# Chosen number of sets to divide dataset into\n",
    "n_sets = 10\n",
    "# Final index of the training set (9 of 10 subsets)\n",
    "t_index = n//n_sets*(n_sets-1)\n",
    "# Dict to count frequencies of each label in yhats\n",
    "yhat_labels = {1: 0, 2: 0, 3: 0, 4: 0}\n",
    "\n",
    "for i in range(N):\n",
    "\n",
    "    # (Re)assign training and hold-out indices\n",
    "    r = np.random.permutation(n)\n",
    "    it = r[:t_index]\n",
    "    ih = r[t_index:]\n",
    "\n",
    "    # Training data\n",
    "    Xt = X[it, :]\n",
    "\n",
    "    # Find w-hat using using training y_scale\n",
    "    yt = y_scale[it]\n",
    "    wt = np.linalg.inv(Xt.T@Xt)@Xt.T@yt\n",
    "\n",
    "    # Apply w-hat to holdout data\n",
    "    Xh = X[ih, :]\n",
    "    yh = y_scale[ih]\n",
    "    yhat = Xh@wt\n",
    "\n",
    "    # Assign y-hat results to closest label: 1, 2, 3, or 4\n",
    "    for idx, pred in enumerate(yhat):\n",
    "        dists = []\n",
    "        for label in range(1, 5):\n",
    "            dists.append(abs(pred - label))\n",
    "        match = dists.index(min(dists))\n",
    "        yhat[idx] = match + 1\n",
    "\n",
    "    errs[i] = np.mean(yhat != yh)\n",
    "\n",
    "    # Count prediction frequency for each label \n",
    "    for prediction in yhat:\n",
    "        yhat_labels[prediction[0]] += 1"
   ]
  },
  {
   "cell_type": "code",
   "execution_count": 303,
   "metadata": {},
   "outputs": [
    {
     "name": "stdout",
     "output_type": "stream",
     "text": [
      "[1, 2, 3, 4]\n",
      "[36149, 621, 2185, 12745]\n"
     ]
    }
   ],
   "source": [
    "labels = []\n",
    "counts = []\n",
    "for label, count in yhat_labels.items():\n",
    "    labels.append(label)\n",
    "    counts.append(count)\n",
    "print(labels)\n",
    "print(counts)"
   ]
  },
  {
   "cell_type": "code",
   "execution_count": 307,
   "metadata": {},
   "outputs": [
    {
     "data": {
      "image/png": "[encoded data removed]",
      "text/plain": [
       "<Figure size 432x288 with 1 Axes>"
      ]
     },
     "metadata": {
      "needs_background": "light"
     },
     "output_type": "display_data"
    }
   ],
   "source": [
    "# Plot label prediction counts\n",
    "plt.bar(labels, counts)\n",
    "plt.xlabel('Predicted label')\n",
    "plt.ylabel('Frequency over {:.0f} iterations)'.format(N))\n",
    "plt.title('Distribution of Predicted Labels Over {:.0f} Iterations'.format(N))\n",
    "plt.show()"
   ]
  },
  {
   "cell_type": "code",
   "execution_count": 309,
   "metadata": {},
   "outputs": [
    {
     "name": "stdout",
     "output_type": "stream",
     "text": [
      "Average error rate over all iterations: 0.5425531914893617\n"
     ]
    },
    {
     "data": {
      "image/png": "[encoded data removed]",
      "text/plain": [
       "<Figure size 432x288 with 1 Axes>"
      ]
     },
     "metadata": {
      "needs_background": "light"
     },
     "output_type": "display_data"
    }
   ],
   "source": [
    "avg_error = np.mean(errs)\n",
    "print(\"Average error rate over all iterations:\", avg_error)\n",
    "\n",
    "# Plot histogram of error rates\n",
    "plt.hist(errs, density=True, bins=8)\n",
    "plt.xlim(0, 1)\n",
    "plt.xlabel('Error rate')\n",
    "plt.ylabel('Frequency over {:.0f} iterations'.format(N))\n",
    "plt.title('Distribution of Avg Test Error Over {:.0f} Iterations. Mean = {:.5f}'.format(N, avg_error))\n",
    "plt.show()"
   ]
  }
 ],
 "metadata": {
  "kernelspec": {
   "display_name": "Python 3.9.13 64-bit",
   "language": "python",
   "name": "python3"
  },
  "language_info": {
   "codemirror_mode": {
    "name": "ipython",
    "version": 3
   },
   "file_extension": ".py",
   "mimetype": "text/x-python",
   "name": "python",
   "nbconvert_exporter": "python",
   "pygments_lexer": "ipython3",
   "version": "3.9.13"
  },
  "orig_nbformat": 4,
  "vscode": {
   "interpreter": {
    "hash": "b0fa6594d8f4cbf19f97940f81e996739fb7646882a419484c72d19e05852a7e"
   }
  }
 },
 "nbformat": 4,
 "nbformat_minor": 2
}
