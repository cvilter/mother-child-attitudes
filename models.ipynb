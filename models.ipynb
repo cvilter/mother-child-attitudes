{
 "cells": [
  {
   "cell_type": "markdown",
   "metadata": {},
   "source": [
    "## CMSC 35300 Final Project: Models\n",
    "Shweta Kamath <br>\n",
    "Nivedita Vatsa <br>\n",
    "Carolyn Vilter"
   ]
  },
  {
   "cell_type": "markdown",
   "metadata": {},
   "source": [
    "#### Setup"
   ]
  },
  {
   "cell_type": "code",
   "execution_count": 149,
   "metadata": {},
   "outputs": [],
   "source": [
    "import pandas as pd\n",
    "import numpy as np\n",
    "import matplotlib.pyplot as plt"
   ]
  },
  {
   "cell_type": "code",
   "execution_count": 150,
   "metadata": {},
   "outputs": [],
   "source": [
    "# Import data\n",
    "df = pd.read_csv(\"data/all_data.csv\")"
   ]
  },
  {
   "cell_type": "code",
   "execution_count": 151,
   "metadata": {},
   "outputs": [],
   "source": [
    "# Separate out Xs\n",
    "X = df.loc[:, ~df.columns.isin([\"child_id\", \"mother_id\", \"treat_alike_scale\", \"treat_alike_binary\"])]\n",
    "X = X.to_numpy()\n",
    "\n",
    "# Separate out two prospective ys\n",
    "y_scale = df.loc[:, df.columns == \"treat_alike_scale\"]\n",
    "y_scale = y_scale.to_numpy()\n",
    "\n",
    "y_binary = df.loc[:, df.columns == \"treat_alike_binary\"]\n",
    "y_binary = y_binary.to_numpy()"
   ]
  },
  {
   "cell_type": "markdown",
   "metadata": {},
   "source": [
    "### Least Squares\n",
    "Predict repeatedly using cross validation; plot test error."
   ]
  },
  {
   "cell_type": "code",
   "execution_count": 147,
   "metadata": {},
   "outputs": [
    {
     "ename": "LinAlgError",
     "evalue": "Singular matrix",
     "output_type": "error",
     "traceback": [
      "\u001b[0;31m---------------------------------------------------------------------------\u001b[0m",
      "\u001b[0;31mLinAlgError\u001b[0m                               Traceback (most recent call last)",
      "\u001b[1;32m/Users/carolynvilter/Documents/MSCAPP_Y2Q1/math_ml/project/mother-child-attitudes/models.ipynb Cell 7\u001b[0m in \u001b[0;36m<cell line: 12>\u001b[0;34m()\u001b[0m\n\u001b[1;32m     <a href='vscode-notebook-cell:/Users/carolynvilter/Documents/MSCAPP_Y2Q1/math_ml/project/mother-child-attitudes/models.ipynb#X10sZmlsZQ%3D%3D?line=19'>20</a>\u001b[0m \u001b[39m# Find w-hat using using training y_scale\u001b[39;00m\n\u001b[1;32m     <a href='vscode-notebook-cell:/Users/carolynvilter/Documents/MSCAPP_Y2Q1/math_ml/project/mother-child-attitudes/models.ipynb#X10sZmlsZQ%3D%3D?line=20'>21</a>\u001b[0m yt \u001b[39m=\u001b[39m y_scale[it]\n\u001b[0;32m---> <a href='vscode-notebook-cell:/Users/carolynvilter/Documents/MSCAPP_Y2Q1/math_ml/project/mother-child-attitudes/models.ipynb#X10sZmlsZQ%3D%3D?line=21'>22</a>\u001b[0m wt \u001b[39m=\u001b[39m np\u001b[39m.\u001b[39;49mlinalg\u001b[39m.\u001b[39;49minv(Xt\u001b[39m.\u001b[39;49mT\u001b[39m@Xt\u001b[39;49m)\u001b[39m@Xt\u001b[39m\u001b[39m.\u001b[39mT\u001b[39m@yt\u001b[39m\n\u001b[1;32m     <a href='vscode-notebook-cell:/Users/carolynvilter/Documents/MSCAPP_Y2Q1/math_ml/project/mother-child-attitudes/models.ipynb#X10sZmlsZQ%3D%3D?line=23'>24</a>\u001b[0m \u001b[39m# Apply w-hat to holdout data\u001b[39;00m\n\u001b[1;32m     <a href='vscode-notebook-cell:/Users/carolynvilter/Documents/MSCAPP_Y2Q1/math_ml/project/mother-child-attitudes/models.ipynb#X10sZmlsZQ%3D%3D?line=24'>25</a>\u001b[0m Xh \u001b[39m=\u001b[39m X[ih, :]\n",
      "File \u001b[0;32m<__array_function__ internals>:180\u001b[0m, in \u001b[0;36minv\u001b[0;34m(*args, **kwargs)\u001b[0m\n",
      "File \u001b[0;32m/opt/homebrew/lib/python3.9/site-packages/numpy/linalg/linalg.py:545\u001b[0m, in \u001b[0;36minv\u001b[0;34m(a)\u001b[0m\n\u001b[1;32m    543\u001b[0m signature \u001b[39m=\u001b[39m \u001b[39m'\u001b[39m\u001b[39mD->D\u001b[39m\u001b[39m'\u001b[39m \u001b[39mif\u001b[39;00m isComplexType(t) \u001b[39melse\u001b[39;00m \u001b[39m'\u001b[39m\u001b[39md->d\u001b[39m\u001b[39m'\u001b[39m\n\u001b[1;32m    544\u001b[0m extobj \u001b[39m=\u001b[39m get_linalg_error_extobj(_raise_linalgerror_singular)\n\u001b[0;32m--> 545\u001b[0m ainv \u001b[39m=\u001b[39m _umath_linalg\u001b[39m.\u001b[39;49minv(a, signature\u001b[39m=\u001b[39;49msignature, extobj\u001b[39m=\u001b[39;49mextobj)\n\u001b[1;32m    546\u001b[0m \u001b[39mreturn\u001b[39;00m wrap(ainv\u001b[39m.\u001b[39mastype(result_t, copy\u001b[39m=\u001b[39m\u001b[39mFalse\u001b[39;00m))\n",
      "File \u001b[0;32m/opt/homebrew/lib/python3.9/site-packages/numpy/linalg/linalg.py:88\u001b[0m, in \u001b[0;36m_raise_linalgerror_singular\u001b[0;34m(err, flag)\u001b[0m\n\u001b[1;32m     87\u001b[0m \u001b[39mdef\u001b[39;00m \u001b[39m_raise_linalgerror_singular\u001b[39m(err, flag):\n\u001b[0;32m---> 88\u001b[0m     \u001b[39mraise\u001b[39;00m LinAlgError(\u001b[39m\"\u001b[39m\u001b[39mSingular matrix\u001b[39m\u001b[39m\"\u001b[39m)\n",
      "\u001b[0;31mLinAlgError\u001b[0m: Singular matrix"
     ]
    }
   ],
   "source": [
    "# Number of random trials\n",
    "N = 100\n",
    "# Store error values\n",
    "errs = np.zeros(N)\n",
    "# Number of observations/samples\n",
    "n = X.shape[0]\n",
    "# Chosen number of sets to divide dataset into\n",
    "n_sets = 10\n",
    "# Final index of the training set (9 of 10 subsets)\n",
    "t_index = n//n_sets*(n_sets-1)\n",
    "\n",
    "for i in range(N):\n",
    "    # (re)assign training and hold-out indices\n",
    "    r = np.random.permutation(n)\n",
    "    it = r[:t_index]\n",
    "    ih = r[t_index:]\n",
    "\n",
    "    # Training data\n",
    "    Xt = X[it, :]\n",
    "    # Find w-hat using using training y_scale\n",
    "    yt = y_scale[it]\n",
    "    wt = np.linalg.inv(Xt.T@Xt)@Xt.T@yt\n",
    "\n",
    "    # Apply w-hat to holdout data\n",
    "    Xh = X[ih, :]\n",
    "    yh = y_scale[ih]\n",
    "    yhat = Xh@wt\n",
    "\n",
    "    # Assign y-hat results to closest label: 1, 2, 3, or 4\n",
    "    for idx, pred in enumerate(yhat):\n",
    "        dists = []\n",
    "        for label in range(1, 5):\n",
    "            dists.append(abs(pred - label))\n",
    "        match = dists.index(min(dists))\n",
    "        yhat[idx] = match + 1\n",
    "\n",
    "    errs[i] = np.mean(yhat != yh)"
   ]
  },
  {
   "cell_type": "code",
   "execution_count": null,
   "metadata": {},
   "outputs": [
    {
     "data": {
      "text/plain": [
       "array([2., 3., 4.])"
      ]
     },
     "execution_count": 118,
     "metadata": {},
     "output_type": "execute_result"
    }
   ],
   "source": [
    "np.unique(yhat)"
   ]
  },
  {
   "cell_type": "code",
   "execution_count": null,
   "metadata": {},
   "outputs": [
    {
     "name": "stdout",
     "output_type": "stream",
     "text": [
      "Average error rate over all iterations: 0.6531721470019343\n"
     ]
    },
    {
     "data": {
      "image/png": "[encoded data removed]",
      "text/plain": [
       "<Figure size 432x288 with 1 Axes>"
      ]
     },
     "metadata": {
      "needs_background": "light"
     },
     "output_type": "display_data"
    }
   ],
   "source": [
    "avg_error = np.mean(errs)\n",
    "print(\"Average error rate over all iterations:\", avg_error)\n",
    "\n",
    "# Plot histogram of error rates\n",
    "plt.hist(errs, density=True, bins=8)\n",
    "plt.xlim(0, 1)\n",
    "plt.xlabel('Error rate')\n",
    "plt.ylabel('Frequency (100 trials)')\n",
    "plt.title('Distribution of avg test error over {:.0f} iterations. Mean = {:.5f}'.format(N, avg_error))\n",
    "plt.show()"
   ]
  }
 ],
 "metadata": {
  "kernelspec": {
   "display_name": "Python 3.9.13 64-bit",
   "language": "python",
   "name": "python3"
  },
  "language_info": {
   "codemirror_mode": {
    "name": "ipython",
    "version": 3
   },
   "file_extension": ".py",
   "mimetype": "text/x-python",
   "name": "python",
   "nbconvert_exporter": "python",
   "pygments_lexer": "ipython3",
   "version": "3.9.13"
  },
  "orig_nbformat": 4,
  "vscode": {
   "interpreter": {
    "hash": "b0fa6594d8f4cbf19f97940f81e996739fb7646882a419484c72d19e05852a7e"
   }
  }
 },
 "nbformat": 4,
 "nbformat_minor": 2
}
