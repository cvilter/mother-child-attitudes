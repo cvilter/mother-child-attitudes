{
 "cells": [
  {
   "cell_type": "markdown",
   "id": "d2d1087a",
   "metadata": {},
   "source": [
    "## CMSC 35300 Final Project: Lasso Models\n",
    "Shweta Kamath <br>\n",
    "Nivedita Vatsa <br>\n",
    "Carolyn Vilter"
   ]
  },
  {
   "cell_type": "markdown",
   "id": "b4f3ef8b",
   "metadata": {},
   "source": [
    "#### Setup"
   ]
  },
  {
   "cell_type": "code",
   "execution_count": 1,
   "id": "212af953",
   "metadata": {},
   "outputs": [],
   "source": [
    "import pandas as pd\n",
    "import numpy as np\n",
    "import matplotlib.pyplot as plt\n",
    "import seaborn as sns"
   ]
  },
  {
   "cell_type": "code",
   "execution_count": 2,
   "id": "4436275e",
   "metadata": {},
   "outputs": [],
   "source": [
    "from sklearn.preprocessing import normalize"
   ]
  },
  {
   "cell_type": "code",
   "execution_count": 3,
   "id": "281d75b5",
   "metadata": {},
   "outputs": [],
   "source": [
    "# Import data\n",
    "df = pd.read_csv(\"data/all_data.csv\")"
   ]
  },
  {
   "cell_type": "code",
   "execution_count": 4,
   "id": "b08a2685",
   "metadata": {},
   "outputs": [],
   "source": [
    "# Separate out Xs\n",
    "X = df.loc[:, ~df.columns.isin([\"child_id\", \"mother_id\", \"treat_alike_scale\", \"treat_alike_binary\"])]\n",
    "X = X.to_numpy()\n",
    "\n",
    "# Separate out two prospective ys\n",
    "y_scale = df.loc[:, df.columns == \"treat_alike_scale\"]\n",
    "y_scale = y_scale.to_numpy()\n",
    "\n",
    "y_binary = df.loc[:, df.columns == \"treat_alike_binary\"]\n",
    "y_binary = y_binary.to_numpy()"
   ]
  },
  {
   "cell_type": "code",
   "execution_count": 5,
   "id": "ecfd808e",
   "metadata": {},
   "outputs": [],
   "source": [
    "X = normalize(X, axis=0, norm='l1')"
   ]
  },
  {
   "cell_type": "code",
   "execution_count": 6,
   "id": "5b05ea7b",
   "metadata": {},
   "outputs": [],
   "source": [
    "# # NEW DATA\n",
    "# X, y = make_regression(n_samples=50000, n_features=8)\n",
    "# y = y[:, np.newaxis]"
   ]
  },
  {
   "cell_type": "markdown",
   "id": "73b92d0e",
   "metadata": {},
   "source": [
    "### Lasso Regression\n",
    "Predict repeatedly using cross validation; plot test error."
   ]
  },
  {
   "cell_type": "code",
   "execution_count": 7,
   "id": "e7d78fba",
   "metadata": {},
   "outputs": [],
   "source": [
    "class Regression:\n",
    "    def __init__(self, learning_rate, iteration, regularization):\n",
    "        \"\"\"\n",
    "        :param learning_rate: A samll value needed for gradient decent, default value id 0.1.\n",
    "        :param iteration: Number of training iteration, default value is 10,000.\n",
    "        \"\"\"\n",
    "        self.m = None\n",
    "        self.n = None\n",
    "        self.w = None\n",
    "        self.b = None\n",
    "        self.regularization = regularization # will be the l1/l2 regularization class according to the regression model.\n",
    "        self.lr = learning_rate\n",
    "        self.it = iteration\n",
    "\n",
    "    def cost_function(self, y, y_pred):\n",
    "        \"\"\"\n",
    "        :param y: Original target value.\n",
    "        :param y_pred: predicted target value.\n",
    "        \"\"\"\n",
    "        return (1 / (2*self.m)) * np.sum(np.square(y_pred - y)) + self.regularization(self.w)\n",
    "    \n",
    "    def hypothesis(self, weights, bias, X):\n",
    "        \"\"\"\n",
    "        :param weights: parameter value weight.\n",
    "        :param X: Training samples.\n",
    "        \"\"\"\n",
    "        return np.dot(X, weights) #+ bias\n",
    "\n",
    "    def train(self, X, y):\n",
    "        \"\"\"\n",
    "        :param X: training data feature values ---> N Dimentional vector.\n",
    "        :param y: training data target value -----> 1 Dimentional array.\n",
    "        \"\"\"\n",
    "        # Insert constant ones for bias weights.\n",
    "        X = np.insert(X, 0, 1, axis=1)\n",
    "\n",
    "        # Target value should be in the shape of (n, 1) not (n, ).\n",
    "        # So, this will check that and change the shape to (n, 1), if not.\n",
    "        try:\n",
    "            y.shape[1]\n",
    "        except IndexError as e:\n",
    "            # we need to change it to the 1 D array, not a list.\n",
    "            print(\"ERROR: Target array should be a one dimentional array not a list\"\n",
    "                  \"----> here the target value not in the shape of (n,1). \\nShape ({shape_y_0},1) and {shape_y} not match\"\n",
    "                  .format(shape_y_0 = y.shape[0] , shape_y = y.shape))\n",
    "            return \n",
    "        \n",
    "        # m is the number of training samples.\n",
    "        self.m = X.shape[0]\n",
    "        # n is the number of features.\n",
    "        self.n = X.shape[1]\n",
    "\n",
    "        # Set the initial weight.\n",
    "        self.w = np.zeros((self.n , 1))\n",
    "\n",
    "        # bias.\n",
    "        self.b = 0\n",
    "\n",
    "        for it in range(1, self.it+1):\n",
    "            # 1. Find the predicted value through the hypothesis.\n",
    "            # 2. Find the Cost function value.\n",
    "            # 3. Find the derivation of weights.\n",
    "            # 4. Apply Gradient Decent.\n",
    "            y_pred = self.hypothesis(self.w, self.b, X)\n",
    "            #print(\"iteration\",it)\n",
    "            #print(\"y predict value\",y_pred)\n",
    "            cost = self.cost_function(y, y_pred)\n",
    "            #print(\"Cost function\",cost)\n",
    "            # fin the derivative.\n",
    "            dw = (1/self.m) * np.dot(X.T, (y_pred - y)) + self.regularization.derivation(self.w)\n",
    "            #print(\"weights derivation\",dw)\n",
    "            #db = -(2 / self.m) * np.sum((y_pred - y))\n",
    "\n",
    "            # change the weight parameter.\n",
    "            self.w = self.w - self.lr * dw\n",
    "            #print(\"updated weights\",self.w)\n",
    "            #self.b = self.b - self.lr * db\n",
    "\n",
    "            if it % 100 == 0:\n",
    "                print(\"The Cost function for the iteration {}----->{}\".format(it, cost))\n",
    "                \n",
    "    def predict(self, test_X):\n",
    "        \"\"\"\n",
    "        :param test_X: feature values to predict.\n",
    "        \"\"\"\n",
    "        # Insert constant ones for bias weights.\n",
    "        test_X = np.insert(test_X, 0, 1, axis=1)\n",
    "\n",
    "        y_pred = self.hypothesis(self.w, self.b, test_X)\n",
    "        return y_pred"
   ]
  },
  {
   "cell_type": "code",
   "execution_count": 8,
   "id": "0d434739",
   "metadata": {},
   "outputs": [],
   "source": [
    "class l1_regularization:\n",
    "    '''Regularization used for Lasso Regression'''\n",
    "    def __init__(self, lamda):\n",
    "        self.lamda = lamda\n",
    "\n",
    "    def __call__(self, weights):\n",
    "        '''This will be retuned when we call this class.'''\n",
    "        return self.lamda * np.sum(np.abs(weights))\n",
    "    \n",
    "    def derivation(self, weights):\n",
    "        \"Derivation of the regulariozation function.\"\n",
    "        return self.lamda * np.sign(weights)"
   ]
  },
  {
   "cell_type": "code",
   "execution_count": 9,
   "id": "505f6966",
   "metadata": {},
   "outputs": [],
   "source": [
    "class l2_regularization:\n",
    "    '''Regularization used for Ridge Regression'''\n",
    "    def __init__(self, lamda):\n",
    "        self.lamda = lamda\n",
    "\n",
    "    def __call__(self, weights):\n",
    "        \"This will be retuned when we call this class.\"\n",
    "        return self.lamda * np.sum(np.square(weights))\n",
    "    \n",
    "    def derivation(self, weights):\n",
    "        \"Derivation of the regulariozation function.\"\n",
    "        return self.lamda * 2 * (weights)"
   ]
  },
  {
   "cell_type": "code",
   "execution_count": 10,
   "id": "92e22a34",
   "metadata": {},
   "outputs": [],
   "source": [
    "class LassoRegression(Regression):\n",
    "    '''\n",
    "    '''\n",
    "    def __init__(self, lamda, learning_rate, iteration):\n",
    "        '''\n",
    "        Define the hyperparameters we are going to use in this model.\n",
    "        :param lamda: Regularization factor.\n",
    "        :param learning_rate: A samll value needed for gradient decent, default value id 0.1.\n",
    "        :param iteration: Number of training iteration, default value is 10,000.\n",
    "        '''\n",
    "        self.regularization = l1_regularization(lamda)\n",
    "        super(LassoRegression, self).__init__(learning_rate, iteration, self.regularization)\n",
    "\n",
    "    def train(self, X, y):\n",
    "        '''\n",
    "        :param X: training data feature values ---> N Dimentional vector.\n",
    "        :param y: training data target value -----> 1 Dimentional array.\n",
    "        '''\n",
    "        return super(LassoRegression, self).train(X, y)\n",
    "    \n",
    "    def predict(self, test_X):\n",
    "        '''\n",
    "        parma test_X: Value need to be predicted.\n",
    "        '''\n",
    "        return super(LassoRegression, self).predict(test_X)"
   ]
  },
  {
   "cell_type": "code",
   "execution_count": 11,
   "id": "3ac20f42",
   "metadata": {},
   "outputs": [],
   "source": [
    "class RidgeRegression(Regression):\n",
    "    '''\n",
    "    Ridge Regression is one of the variance of the Linear Regression. This model doing the parameter learning \n",
    "    and regularization at the same time. This model uses the l2-regularization. \n",
    "    This is very similar to the Lasso regression.\n",
    "    * Regularization will be one of the soluions to the Overfitting.\n",
    "    * Overfitting happens when the model has \"High Variance and low bias\". So, regularization adds a little bias to the model.\n",
    "    * This model will try to keep the balance between learning the parameters and the complexity of the model( tries to keep the parameter having small value and small degree of palinamial).\n",
    "    * The Regularization parameter(lamda) controls how severe  the regularization is. \n",
    "    * large lamda adds more bias , hence the Variance will go very small --> this may cause underfitting(Low bias and High Varinace).\n",
    "    * Lamda can be found by tial and error methos. \n",
    "    '''\n",
    "    def __init__(self, lamda, learning_rate, iteration):\n",
    "        \"\"\"\n",
    "        Define the hyperparameters we are going to use in this model.\n",
    "        :param lamda: Regularization factor.\n",
    "        :param learning_rate: A samll value needed for gradient decent, default value id 0.1.\n",
    "        :param iteration: Number of training iteration, default value is 10,000.\n",
    "        \"\"\"\n",
    "        self.regularization = l2_regularization(lamda)\n",
    "        super(RidgeRegression, self).__init__(learning_rate, iteration, self.regularization)\n",
    "\n",
    "    def train(self, X, y):\n",
    "        \"\"\"\n",
    "        :param X: training data feature values ---> N Dimentional vector.\n",
    "        :param y: training data target value -----> 1 Dimentional array.\n",
    "        \"\"\"\n",
    "        return super(RidgeRegression, self).train(X, y)\n",
    "    def predict(self, test_X):\n",
    "        \"\"\"\n",
    "        parma test_X: Value need to be predicted.\n",
    "        \"\"\"\n",
    "        return super(RidgeRegression, self).predict(test_X)"
   ]
  },
  {
   "cell_type": "markdown",
   "id": "93fac989",
   "metadata": {},
   "source": [
    "### Estimate Lasso Model"
   ]
  },
  {
   "cell_type": "code",
   "execution_count": 28,
   "id": "010f9918",
   "metadata": {},
   "outputs": [
    {
     "name": "stdout",
     "output_type": "stream",
     "text": [
      "The Cost function for the iteration 100----->1.0506512610782792\n",
      "The Cost function for the iteration 200----->0.900602607474491\n",
      "The Cost function for the iteration 300----->0.7777632963860988\n",
      "The Cost function for the iteration 400----->0.6772013348611974\n",
      "The Cost function for the iteration 500----->0.594876333701497\n",
      "The Cost function for the iteration 600----->0.5274802200725058\n",
      "The Cost function for the iteration 700----->0.47230643051216203\n",
      "The Cost function for the iteration 800----->0.4271404647922196\n",
      "The Cost function for the iteration 900----->0.39016422438183984\n",
      "The Cost function for the iteration 1000----->0.3598934472660034\n"
     ]
    }
   ],
   "source": [
    "param = {\"lamda\" : 0.01,\n",
    "         \"learning_rate\" : 0.001,\n",
    "         \"iteration\" : 1000}\n",
    "\n",
    "lasso = LassoRegression(**param)\n",
    "lasso.train(X, y_scale)\n",
    "\n",
    "# predict\n",
    "y_scale_pred = lasso.predict(X)"
   ]
  },
  {
   "cell_type": "code",
   "execution_count": 29,
   "id": "ba79743d",
   "metadata": {},
   "outputs": [
    {
     "data": {
      "text/plain": [
       "Index(['year_at_y', 'gap_at_y', 'yob_child', 'religion_freq',\n",
       "       'woman_place_in_the_home_birth', 'wife_w_fam_no_tm_o_emp_birth',\n",
       "       'wrkng_sp_feel_more_useful_birth', 'wrkng_sp_feel_more_useful_y',\n",
       "       'emp_wife_lead_juv_delin_birth', 'infl_neces_emp_2_parents_birth',\n",
       "       'infl_neces_emp_2_parents_y', 'trade_husband_wife_roles_birth',\n",
       "       'men_should_share_housework_birth', 'men_should_share_housework_y',\n",
       "       'women_happier_trade_roles_birth', 'women_happier_trade_roles_y',\n",
       "       'highest_expected_grade_GRADUATE FROM COLLEGE',\n",
       "       'mother_religion_raised_LUTHERAN', 'mother_religion_raised_METHODIST',\n",
       "       'mother_religion_raised_JEWISH', 'mother_religion_raised_OTHER',\n",
       "       'mother_religion_current_LUTHERAN', 'mother_religion_current_METHODIST',\n",
       "       'mother_religion_current_CHRISTIAN, NO DENOMINATION GIVEN'],\n",
       "      dtype='object')"
      ]
     },
     "execution_count": 29,
     "metadata": {},
     "output_type": "execute_result"
    }
   ],
   "source": [
    "X_names = df.columns[(~df.columns.isin([\"child_id\", \"mother_id\", \"treat_alike_scale\", \"treat_alike_binary\"]))]\n",
    "X_names[(np.round(lasso.w[1:], 5)>0.0).flatten()]"
   ]
  },
  {
   "cell_type": "code",
   "execution_count": 32,
   "id": "e38f4a55",
   "metadata": {},
   "outputs": [
    {
     "data": {
      "text/plain": [
       "array([0.89809303])"
      ]
     },
     "execution_count": 32,
     "metadata": {},
     "output_type": "execute_result"
    }
   ],
   "source": [
    "lasso.w[0]"
   ]
  },
  {
   "cell_type": "code",
   "execution_count": 31,
   "id": "891c1cc7",
   "metadata": {},
   "outputs": [
    {
     "data": {
      "text/plain": [
       "array([[ 1.e-05],\n",
       "       [ 1.e-05],\n",
       "       [ 0.e+00],\n",
       "       [ 1.e-05],\n",
       "       [ 0.e+00],\n",
       "       [ 1.e-05],\n",
       "       [ 0.e+00],\n",
       "       [ 1.e-05],\n",
       "       [ 0.e+00],\n",
       "       [ 1.e-05],\n",
       "       [ 0.e+00],\n",
       "       [ 1.e-05],\n",
       "       [ 1.e-05],\n",
       "       [ 1.e-05],\n",
       "       [ 0.e+00],\n",
       "       [ 1.e-05],\n",
       "       [ 1.e-05],\n",
       "       [ 1.e-05],\n",
       "       [ 0.e+00],\n",
       "       [ 1.e-05],\n",
       "       [ 1.e-05],\n",
       "       [ 1.e-05],\n",
       "       [ 1.e-05],\n",
       "       [ 0.e+00],\n",
       "       [ 0.e+00],\n",
       "       [ 0.e+00],\n",
       "       [-1.e-05],\n",
       "       [-0.e+00],\n",
       "       [-1.e-05],\n",
       "       [-0.e+00],\n",
       "       [-1.e-05],\n",
       "       [-1.e-05],\n",
       "       [ 1.e-05],\n",
       "       [-1.e-05],\n",
       "       [-1.e-05],\n",
       "       [-1.e-05],\n",
       "       [-0.e+00],\n",
       "       [-0.e+00],\n",
       "       [ 1.e-05],\n",
       "       [ 1.e-05],\n",
       "       [ 0.e+00],\n",
       "       [-0.e+00],\n",
       "       [ 1.e-05],\n",
       "       [ 1.e-05],\n",
       "       [-0.e+00],\n",
       "       [-0.e+00],\n",
       "       [-1.e-05],\n",
       "       [ 0.e+00],\n",
       "       [ 1.e-05],\n",
       "       [ 1.e-05],\n",
       "       [-0.e+00],\n",
       "       [ 0.e+00],\n",
       "       [-1.e-05],\n",
       "       [-0.e+00],\n",
       "       [ 0.e+00],\n",
       "       [-1.e-05],\n",
       "       [ 0.e+00],\n",
       "       [-0.e+00],\n",
       "       [-1.e-05],\n",
       "       [ 0.e+00],\n",
       "       [ 0.e+00],\n",
       "       [ 1.e-05],\n",
       "       [-0.e+00],\n",
       "       [-0.e+00],\n",
       "       [-1.e-05]])"
      ]
     },
     "execution_count": 31,
     "metadata": {},
     "output_type": "execute_result"
    }
   ],
   "source": [
    "np.round(lasso.w[1:], 5)"
   ]
  },
  {
   "cell_type": "code",
   "execution_count": 20,
   "id": "51370e7a",
   "metadata": {},
   "outputs": [
    {
     "data": {
      "text/plain": [
       "0.7650489497095625"
      ]
     },
     "execution_count": 20,
     "metadata": {},
     "output_type": "execute_result"
    }
   ],
   "source": [
    "# error\n",
    "mse = (np.square(y_scale - y_scale_pred)).mean(axis=None)\n",
    "mse"
   ]
  },
  {
   "cell_type": "code",
   "execution_count": 21,
   "id": "a074bb95",
   "metadata": {},
   "outputs": [
    {
     "data": {
      "text/plain": [
       "Text(0, 0.5, 'predicted y')"
      ]
     },
     "execution_count": 21,
     "metadata": {},
     "output_type": "execute_result"
    },
    {
     "data": {
      "image/png": "[encoded data removed]",
      "text/plain": [
       "<Figure size 432x288 with 1 Axes>"
      ]
     },
     "metadata": {
      "needs_background": "light"
     },
     "output_type": "display_data"
    }
   ],
   "source": [
    "plt.scatter(y_scale, y_scale_pred, c=\"green\", alpha=0.5)\n",
    "plt.xlabel(\"y scale\")\n",
    "plt.ylabel(\"predicted y\")"
   ]
  },
  {
   "cell_type": "code",
   "execution_count": 16,
   "id": "5cd1effc",
   "metadata": {},
   "outputs": [
    {
     "data": {
      "text/plain": [
       "<AxesSubplot:xlabel='y', ylabel='y_pred'>"
      ]
     },
     "execution_count": 16,
     "metadata": {},
     "output_type": "execute_result"
    },
    {
     "data": {
      "image/png": "[encoded data removed]",
      "text/plain": [
       "<Figure size 432x288 with 1 Axes>"
      ]
     },
     "metadata": {
      "needs_background": "light"
     },
     "output_type": "display_data"
    }
   ],
   "source": [
    "results = pd.DataFrame(data=np.hstack((y_scale, y_scale_pred)),\n",
    "             columns=[\"y\", \"y_pred\"])\n",
    "\n",
    "sns.boxplot(data=results, x='y', y='y_pred')"
   ]
  },
  {
   "cell_type": "code",
   "execution_count": null,
   "id": "e5968f82",
   "metadata": {},
   "outputs": [],
   "source": [
    "# Assign y-hat results to closest label: 1, 2, 3, or 4\n",
    "    for idx, pred in enumerate(yhat):\n",
    "        dists = []\n",
    "        for label in range(1, 5):\n",
    "            dists.append(abs(pred - label))\n",
    "        match = dists.index(min(dists))\n",
    "        yhat[idx] = match + 1\n",
    "\n",
    "    errs[i] = np.mean(yhat != yh)\n"
   ]
  }
 ],
 "metadata": {
  "kernelspec": {
   "display_name": "Python 3 (ipykernel)",
   "language": "python",
   "name": "python3"
  },
  "language_info": {
   "codemirror_mode": {
    "name": "ipython",
    "version": 3
   },
   "file_extension": ".py",
   "mimetype": "text/x-python",
   "name": "python",
   "nbconvert_exporter": "python",
   "pygments_lexer": "ipython3",
   "version": "3.9.7"
  }
 },
 "nbformat": 4,
 "nbformat_minor": 5
}
