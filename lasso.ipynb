{
 "cells": [
  {
   "cell_type": "markdown",
   "id": "3b3aad10",
   "metadata": {},
   "source": [
    "## CMSC 35300 Final Project: Lasso Models\n",
    "Shweta Kamath <br>\n",
    "Nivedita Vatsa <br>\n",
    "Carolyn Vilter"
   ]
  },
  {
   "cell_type": "markdown",
   "id": "6ae08929",
   "metadata": {},
   "source": [
    "#### Setup"
   ]
  },
  {
   "cell_type": "code",
   "execution_count": 1,
   "id": "af30fe15",
   "metadata": {},
   "outputs": [],
   "source": [
    "import pandas as pd\n",
    "import numpy as np\n",
    "import matplotlib.pyplot as plt\n",
    "import seaborn as sns"
   ]
  },
  {
   "cell_type": "code",
   "execution_count": 2,
   "id": "d4e77566",
   "metadata": {},
   "outputs": [],
   "source": [
    "# Import data\n",
    "df = pd.read_csv(\"data/all_data_standardized.csv\")"
   ]
  },
  {
   "cell_type": "code",
   "execution_count": 3,
   "id": "50ee0fb5",
   "metadata": {},
   "outputs": [],
   "source": [
    "# Separate out Xs\n",
    "X = df.loc[:, ~df.columns.isin([\"child_id\", \"mother_id\", \"treat_alike_scale\", \"treat_alike_binary\"])]\n",
    "X = X.to_numpy()\n",
    "\n",
    "# Separate out two prospective ys\n",
    "y_scale = df.loc[:, df.columns == \"treat_alike_scale\"]\n",
    "y_scale = y_scale.to_numpy()\n",
    "\n",
    "y_binary = df.loc[:, df.columns == \"treat_alike_binary\"]\n",
    "y_binary = y_binary.to_numpy()"
   ]
  },
  {
   "cell_type": "markdown",
   "id": "a21568e4",
   "metadata": {},
   "source": [
    "### Lasso Regression\n",
    "Predict repeatedly using cross validation; plot test error."
   ]
  },
  {
   "cell_type": "code",
   "execution_count": 4,
   "id": "a5d191f7",
   "metadata": {},
   "outputs": [],
   "source": [
    "class Regression:\n",
    "    def __init__(self, learning_rate, iteration, regularization):\n",
    "        \"\"\"\n",
    "        :param learning_rate: A samll value needed for gradient decent, default value id 0.1.\n",
    "        :param iteration: Number of training iteration, default value is 10,000.\n",
    "        \"\"\"\n",
    "        self.m = None\n",
    "        self.n = None\n",
    "        self.w = None\n",
    "        self.b = None\n",
    "        self.regularization = regularization # will be the l1/l2 regularization class according to the regression model.\n",
    "        self.lr = learning_rate\n",
    "        self.it = iteration\n",
    "\n",
    "    def cost_function(self, y, y_pred):\n",
    "        \"\"\"\n",
    "        :param y: Original target value.\n",
    "        :param y_pred: predicted target value.\n",
    "        \"\"\"\n",
    "        return (1 / (2*self.m)) * np.sum(np.square(y_pred - y)) + self.regularization(self.w)\n",
    "    \n",
    "    def hypothesis(self, weights, bias, X):\n",
    "        \"\"\"\n",
    "        :param weights: parameter value weight.\n",
    "        :param X: Training samples.\n",
    "        \"\"\"\n",
    "        return np.dot(X, weights) #+ bias\n",
    "\n",
    "    def train(self, X, y):\n",
    "        \"\"\"\n",
    "        :param X: training data feature values ---> N Dimentional vector.\n",
    "        :param y: training data target value -----> 1 Dimentional array.\n",
    "        \"\"\"\n",
    "        # Insert constant ones for bias weights.\n",
    "        X = np.insert(X, 0, 1, axis=1)\n",
    "\n",
    "        # Target value should be in the shape of (n, 1) not (n, ).\n",
    "        # So, this will check that and change the shape to (n, 1), if not.\n",
    "        try:\n",
    "            y.shape[1]\n",
    "        except IndexError as e:\n",
    "            # we need to change it to the 1 D array, not a list.\n",
    "            print(\"ERROR: Target array should be a one dimentional array not a list\"\n",
    "                  \"----> here the target value not in the shape of (n,1). \\nShape ({shape_y_0},1) and {shape_y} not match\"\n",
    "                  .format(shape_y_0 = y.shape[0] , shape_y = y.shape))\n",
    "            return \n",
    "        \n",
    "        # m is the number of training samples.\n",
    "        self.m = X.shape[0]\n",
    "        # n is the number of features.\n",
    "        self.n = X.shape[1]\n",
    "\n",
    "        # Set the initial weight.\n",
    "        self.w = np.zeros((self.n , 1))\n",
    "\n",
    "        # bias.\n",
    "        self.b = 0\n",
    "\n",
    "        for it in range(1, self.it+1):\n",
    "            # 1. Find the predicted value through the hypothesis.\n",
    "            # 2. Find the Cost function value.\n",
    "            # 3. Find the derivation of weights.\n",
    "            # 4. Apply Gradient Decent.\n",
    "            y_pred = self.hypothesis(self.w, self.b, X)\n",
    "            #print(\"iteration\",it)\n",
    "            #print(\"y predict value\",y_pred)\n",
    "            cost = self.cost_function(y, y_pred)\n",
    "            #print(\"Cost function\",cost)\n",
    "            # fin the derivative.\n",
    "            dw = (1/self.m) * np.dot(X.T, (y_pred - y)) + self.regularization.derivation(self.w)\n",
    "            #print(\"weights derivation\",dw)\n",
    "            #db = -(2 / self.m) * np.sum((y_pred - y))\n",
    "\n",
    "            # change the weight parameter.\n",
    "            self.w = self.w - self.lr * dw\n",
    "            #print(\"updated weights\",self.w)\n",
    "            #self.b = self.b - self.lr * db\n",
    "\n",
    "            if it % 10000 == 0:\n",
    "                print(\"The Cost function for the iteration {}----->{}\".format(it, cost))\n",
    "                \n",
    "    def predict(self, test_X):\n",
    "        \"\"\"\n",
    "        :param test_X: feature values to predict.\n",
    "        \"\"\"\n",
    "        # Insert constant ones for bias weights.\n",
    "        test_X = np.insert(test_X, 0, 1, axis=1)\n",
    "\n",
    "        y_pred = self.hypothesis(self.w, self.b, test_X)\n",
    "        return y_pred"
   ]
  },
  {
   "cell_type": "code",
   "execution_count": 5,
   "id": "d0660e92",
   "metadata": {},
   "outputs": [],
   "source": [
    "class l1_regularization:\n",
    "    '''Regularization used for Lasso Regression'''\n",
    "    def __init__(self, lamda):\n",
    "        self.lamda = lamda\n",
    "\n",
    "    def __call__(self, weights):\n",
    "        '''This will be retuned when we call this class.'''\n",
    "        return self.lamda * np.sum(np.abs(weights))\n",
    "    \n",
    "    def derivation(self, weights):\n",
    "        \"Derivation of the regulariozation function.\"\n",
    "        return self.lamda * np.sign(weights)"
   ]
  },
  {
   "cell_type": "code",
   "execution_count": 6,
   "id": "2f4f2501",
   "metadata": {},
   "outputs": [],
   "source": [
    "class l2_regularization:\n",
    "    '''Regularization used for Ridge Regression'''\n",
    "    def __init__(self, lamda):\n",
    "        self.lamda = lamda\n",
    "\n",
    "    def __call__(self, weights):\n",
    "        \"This will be retuned when we call this class.\"\n",
    "        return self.lamda * np.sum(np.square(weights))\n",
    "    \n",
    "    def derivation(self, weights):\n",
    "        \"Derivation of the regulariozation function.\"\n",
    "        return self.lamda * 2 * (weights)"
   ]
  },
  {
   "cell_type": "code",
   "execution_count": 7,
   "id": "c681a224",
   "metadata": {},
   "outputs": [],
   "source": [
    "class LassoRegression(Regression):\n",
    "    '''\n",
    "    '''\n",
    "    def __init__(self, lamda, learning_rate, iteration):\n",
    "        '''\n",
    "        Define the hyperparameters we are going to use in this model.\n",
    "        :param lamda: Regularization factor.\n",
    "        :param learning_rate: A samll value needed for gradient decent, default value id 0.1.\n",
    "        :param iteration: Number of training iteration, default value is 10,000.\n",
    "        '''\n",
    "        self.regularization = l1_regularization(lamda)\n",
    "        super(LassoRegression, self).__init__(learning_rate, iteration, self.regularization)\n",
    "\n",
    "    def train(self, X, y):\n",
    "        '''\n",
    "        :param X: training data feature values ---> N Dimentional vector.\n",
    "        :param y: training data target value -----> 1 Dimentional array.\n",
    "        '''\n",
    "        return super(LassoRegression, self).train(X, y)\n",
    "    \n",
    "    def predict(self, test_X):\n",
    "        '''\n",
    "        parma test_X: Value need to be predicted.\n",
    "        '''\n",
    "        return super(LassoRegression, self).predict(test_X)"
   ]
  },
  {
   "cell_type": "code",
   "execution_count": 8,
   "id": "66ccd472",
   "metadata": {},
   "outputs": [],
   "source": [
    "class RidgeRegression(Regression):\n",
    "    '''\n",
    "    Ridge Regression is one of the variance of the Linear Regression. This model doing the parameter learning \n",
    "    and regularization at the same time. This model uses the l2-regularization. \n",
    "    This is very similar to the Lasso regression.\n",
    "    * Regularization will be one of the soluions to the Overfitting.\n",
    "    * Overfitting happens when the model has \"High Variance and low bias\". So, regularization adds a little bias to the model.\n",
    "    * This model will try to keep the balance between learning the parameters and the complexity of the model( tries to keep the parameter having small value and small degree of palinamial).\n",
    "    * The Regularization parameter(lamda) controls how severe  the regularization is. \n",
    "    * large lamda adds more bias , hence the Variance will go very small --> this may cause underfitting(Low bias and High Varinace).\n",
    "    * Lamda can be found by tial and error methos. \n",
    "    '''\n",
    "    def __init__(self, lamda, learning_rate, iteration):\n",
    "        \"\"\"\n",
    "        Define the hyperparameters we are going to use in this model.\n",
    "        :param lamda: Regularization factor.\n",
    "        :param learning_rate: A samll value needed for gradient decent, default value id 0.1.\n",
    "        :param iteration: Number of training iteration, default value is 10,000.\n",
    "        \"\"\"\n",
    "        self.regularization = l2_regularization(lamda)\n",
    "        super(RidgeRegression, self).__init__(learning_rate, iteration, self.regularization)\n",
    "\n",
    "    def train(self, X, y):\n",
    "        \"\"\"\n",
    "        :param X: training data feature values ---> N Dimentional vector.\n",
    "        :param y: training data target value -----> 1 Dimentional array.\n",
    "        \"\"\"\n",
    "        return super(RidgeRegression, self).train(X, y)\n",
    "    def predict(self, test_X):\n",
    "        \"\"\"\n",
    "        parma test_X: Value need to be predicted.\n",
    "        \"\"\"\n",
    "        return super(RidgeRegression, self).predict(test_X)"
   ]
  },
  {
   "cell_type": "code",
   "execution_count": 9,
   "id": "6a78aaa1",
   "metadata": {},
   "outputs": [],
   "source": [
    "def predict_scale_labels(y_scale_pred):\n",
    "    '''\n",
    "    Assign label 1 through 4\n",
    "    \n",
    "    arg:\n",
    "    - y_scale_pred: vector of predicted y values\n",
    "    \n",
    "    Returns: vector of predicted y labels (1 through 4)\n",
    "    '''\n",
    "    # generate nx4 matrix where each column is 1,2,3,4\n",
    "    m, _ = y_scale_pred.shape\n",
    "    mat = np.tile(np.arange(4)+1, (m,1))\n",
    "    \n",
    "    # find lowest absolute distance\n",
    "    return np.argmin(abs(mat - y_scale_pred), axis=1).reshape(m, 1)"
   ]
  },
  {
   "cell_type": "markdown",
   "id": "492cbf09",
   "metadata": {},
   "source": [
    "### Estimate Lasso Model"
   ]
  },
  {
   "cell_type": "code",
   "execution_count": 14,
   "id": "44adff9d",
   "metadata": {},
   "outputs": [
    {
     "name": "stdout",
     "output_type": "stream",
     "text": [
      "The Cost function for the iteration 1000----->0.41679908332692683\n",
      "The Cost function for the iteration 2000----->0.28518990027337116\n",
      "The Cost function for the iteration 3000----->0.24278528202110722\n",
      "The Cost function for the iteration 4000----->0.22808387943344677\n",
      "The Cost function for the iteration 5000----->0.22214167586702094\n",
      "The Cost function for the iteration 6000----->0.21910046089054594\n",
      "The Cost function for the iteration 7000----->0.2171291057448461\n",
      "The Cost function for the iteration 8000----->0.21563866925776792\n",
      "The Cost function for the iteration 9000----->0.21442582462138762\n",
      "The Cost function for the iteration 10000----->0.21340903572559092\n",
      "The Cost function for the iteration 11000----->0.21254699258617635\n",
      "The Cost function for the iteration 12000----->0.21181313305741853\n",
      "The Cost function for the iteration 13000----->0.21118746236086477\n",
      "The Cost function for the iteration 14000----->0.21065374029978462\n",
      "The Cost function for the iteration 15000----->0.21019836200157604\n",
      "The Cost function for the iteration 16000----->0.20980979653782844\n",
      "The Cost function for the iteration 17000----->0.20947822890350096\n",
      "The Cost function for the iteration 18000----->0.2091952917158196\n",
      "The Cost function for the iteration 19000----->0.20895384771255265\n",
      "The Cost function for the iteration 20000----->0.20874780767971488\n",
      "The Cost function for the iteration 21000----->0.2085719761768841\n",
      "The Cost function for the iteration 22000----->0.20842192023329303\n",
      "The Cost function for the iteration 23000----->0.20829385741406123\n",
      "The Cost function for the iteration 24000----->0.20818456034347205\n",
      "The Cost function for the iteration 25000----->0.20809127524860266\n",
      "The Cost function for the iteration 26000----->0.2080116524592203\n",
      "The Cost function for the iteration 27000----->0.20794368710737296\n",
      "The Cost function for the iteration 28000----->0.20788566852929224\n",
      "The Cost function for the iteration 29000----->0.20783613709239426\n",
      "The Cost function for the iteration 30000----->0.207793847357724\n",
      "The Cost function for the iteration 31000----->0.2077577366481311\n",
      "The Cost function for the iteration 32000----->0.20772689822890722\n",
      "The Cost function for the iteration 33000----->0.20770055842402935\n",
      "The Cost function for the iteration 34000----->0.2076780570904772\n",
      "The Cost function for the iteration 35000----->0.20765883095784507\n",
      "The Cost function for the iteration 36000----->0.2076423994127804\n",
      "The Cost function for the iteration 37000----->0.20762835236948377\n",
      "The Cost function for the iteration 38000----->0.20761633992015058\n",
      "The Cost function for the iteration 39000----->0.20760606350415778\n",
      "The Cost function for the iteration 40000----->0.20759726837312728\n",
      "The Cost function for the iteration 41000----->0.2075897371617027\n",
      "The Cost function for the iteration 42000----->0.2075832844017824\n",
      "The Cost function for the iteration 43000----->0.20757775184175958\n",
      "The Cost function for the iteration 44000----->0.20757300445264126\n",
      "The Cost function for the iteration 45000----->0.20756892702024807\n",
      "The Cost function for the iteration 46000----->0.20756542123749178\n",
      "The Cost function for the iteration 47000----->0.20756240322334576\n",
      "The Cost function for the iteration 48000----->0.20755980140589436\n",
      "The Cost function for the iteration 49000----->0.2075575547160338\n",
      "The Cost function for the iteration 50000----->0.207555611046238\n",
      "The Cost function for the iteration 51000----->0.20755392593549285\n",
      "The Cost function for the iteration 52000----->0.2075524614472099\n",
      "The Cost function for the iteration 53000----->0.2075511852117998\n",
      "The Cost function for the iteration 54000----->0.2075500696097441\n",
      "The Cost function for the iteration 55000----->0.20754909107454625\n",
      "The Cost function for the iteration 56000----->0.20754822949797144\n",
      "The Cost function for the iteration 57000----->0.20754746772256435\n",
      "The Cost function for the iteration 58000----->0.20754679110863755\n",
      "The Cost function for the iteration 59000----->0.20754618716480158\n",
      "The Cost function for the iteration 60000----->0.20754564523271332\n",
      "The Cost function for the iteration 61000----->0.20754515621808606\n",
      "The Cost function for the iteration 62000----->0.20754471236117175\n",
      "The Cost function for the iteration 63000----->0.2075443070409246\n",
      "The Cost function for the iteration 64000----->0.20754393460790235\n",
      "The Cost function for the iteration 65000----->0.20754359024168828\n",
      "The Cost function for the iteration 66000----->0.20754326982923582\n",
      "The Cost function for the iteration 67000----->0.20754296986106602\n",
      "The Cost function for the iteration 68000----->0.20754268734269662\n",
      "The Cost function for the iteration 69000----->0.20754241971906925\n",
      "The Cost function for the iteration 70000----->0.2075421648100661\n",
      "The Cost function for the iteration 71000----->0.20754192075548916\n",
      "The Cost function for the iteration 72000----->0.20754168596811395\n",
      "The Cost function for the iteration 73000----->0.20754145909363172\n",
      "The Cost function for the iteration 74000----->0.2075412389764705\n",
      "The Cost function for the iteration 75000----->0.20754102463063143\n",
      "The Cost function for the iteration 76000----->0.20754081521480458\n",
      "The Cost function for the iteration 77000----->0.20754061001113686\n",
      "The Cost function for the iteration 78000----->0.2075404084071152\n",
      "The Cost function for the iteration 79000----->0.20754020988010863\n",
      "The Cost function for the iteration 80000----->0.20754001398417812\n"
     ]
    }
   ],
   "source": [
    "param = {\"lamda\" : 0,\n",
    "         \"learning_rate\" : 10**(-10),\n",
    "         \"iteration\" : 800000}\n",
    "\n",
    "lasso = LassoRegression(**param)\n",
    "lasso.train(X, y_scale)\n",
    "\n",
    "# predict\n",
    "y_scale_pred = lasso.predict(X)"
   ]
  },
  {
   "cell_type": "code",
   "execution_count": 11,
   "id": "23ed251e",
   "metadata": {},
   "outputs": [
    {
     "name": "stdout",
     "output_type": "stream",
     "text": [
      "---most important features---\n",
      "year_at_y : 0.00036801\n",
      "yob_child : 0.00036552\n"
     ]
    }
   ],
   "source": [
    "X_names = df.columns[(~df.columns.isin([\"child_id\", \"mother_id\", \"treat_alike_scale\", \"treat_alike_binary\"]))]\n",
    "\n",
    "filt = (np.round(lasso.w[1:], 4)>0.0).flatten()\n",
    "b_names = X_names[filt]\n",
    "b_vals  = lasso.w[1:][filt]\n",
    "\n",
    "print(\"---most important features---\")\n",
    "for n, v in zip(b_names, b_vals):\n",
    "    print(n, \":\", '%.08f' % v)"
   ]
  },
  {
   "cell_type": "code",
   "execution_count": 12,
   "id": "2b7bc381",
   "metadata": {},
   "outputs": [
    {
     "name": "stdout",
     "output_type": "stream",
     "text": [
      "---error rate---\n",
      "---mean square error ---\n"
     ]
    },
    {
     "data": {
      "text/plain": [
       "0.4151945204879751"
      ]
     },
     "execution_count": 12,
     "metadata": {},
     "output_type": "execute_result"
    }
   ],
   "source": [
    "print(\"---error rate---\")\n",
    "y_scale_pred_label = predict_scale_labels(y_scale_pred)\n",
    "100*np.sum(y_scale != y_scale_pred_label)/len(y_scale)\n",
    "\n",
    "print(\"---mean square error ---\")\n",
    "mse = (np.square(y_scale - y_scale_pred)).mean(axis=None)\n",
    "mse"
   ]
  },
  {
   "cell_type": "code",
   "execution_count": 13,
   "id": "d0d97e27",
   "metadata": {},
   "outputs": [
    {
     "data": {
      "text/plain": [
       "[Text(0.5, 1.0, 'Prediction by Label')]"
      ]
     },
     "execution_count": 13,
     "metadata": {},
     "output_type": "execute_result"
    },
    {
     "data": {
      "image/png": "[encoded data removed]",
      "text/plain": [
       "<Figure size 432x288 with 1 Axes>"
      ]
     },
     "metadata": {
      "needs_background": "light"
     },
     "output_type": "display_data"
    }
   ],
   "source": [
    "# # visualize results\n",
    "results = pd.DataFrame(data=np.hstack((y_scale, y_scale_pred)),\n",
    "             columns=[\"y\", \"y_pred\"])\n",
    "\n",
    "sns.boxplot(data=results, x='y', y='y_pred').set(title='Prediction by Label')"
   ]
  }
 ],
 "metadata": {
  "kernelspec": {
   "display_name": "Python 3 (ipykernel)",
   "language": "python",
   "name": "python3"
  },
  "language_info": {
   "codemirror_mode": {
    "name": "ipython",
    "version": 3
   },
   "file_extension": ".py",
   "mimetype": "text/x-python",
   "name": "python",
   "nbconvert_exporter": "python",
   "pygments_lexer": "ipython3",
   "version": "3.9.7"
  }
 },
 "nbformat": 4,
 "nbformat_minor": 5
}
