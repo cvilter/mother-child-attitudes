{
 "cells": [
  {
   "cell_type": "markdown",
   "id": "5f19a432",
   "metadata": {},
   "source": [
    "## CMSC 35300 Final Project: Lasso Models\n",
    "Shweta Kamath <br>\n",
    "Nivedita Vatsa <br>\n",
    "Carolyn Vilter"
   ]
  },
  {
   "cell_type": "markdown",
   "id": "bf44aa39",
   "metadata": {},
   "source": [
    "#### Setup"
   ]
  },
  {
   "cell_type": "code",
   "execution_count": 62,
   "id": "152ce23f",
   "metadata": {},
   "outputs": [],
   "source": [
    "import pandas as pd\n",
    "import numpy as np\n",
    "import matplotlib.pyplot as plt\n",
    "import seaborn as sns"
   ]
  },
  {
   "cell_type": "code",
   "execution_count": 63,
   "id": "ecafe574",
   "metadata": {},
   "outputs": [],
   "source": [
    "# Import data\n",
    "df = pd.read_csv(\"data/all_data_standardized.csv\")"
   ]
  },
  {
   "cell_type": "code",
   "execution_count": 64,
   "id": "035b2290",
   "metadata": {},
   "outputs": [],
   "source": [
    "# Separate out Xs\n",
    "X = df.loc[:, ~df.columns.isin([\"child_id\", \"mother_id\", \"treat_alike_scale\", \"treat_alike_binary\"])]\n",
    "X = X.to_numpy()\n",
    "\n",
    "# Separate out two prospective ys\n",
    "y_scale = df.loc[:, df.columns == \"treat_alike_scale\"]\n",
    "y_scale = y_scale.to_numpy()\n",
    "\n",
    "y_binary = df.loc[:, df.columns == \"treat_alike_binary\"]\n",
    "y_binary = y_binary.to_numpy()"
   ]
  },
  {
   "cell_type": "markdown",
   "id": "590d07bb",
   "metadata": {},
   "source": [
    "### Lasso Regression\n",
    "Predict repeatedly using cross validation; plot test error."
   ]
  },
  {
   "cell_type": "markdown",
   "id": "d5a73c67",
   "metadata": {},
   "source": [
    "Source: https://www.kaggle.com/code/ninjaac/lasso-and-ridge-regression-from-scratch/notebook"
   ]
  },
  {
   "cell_type": "code",
   "execution_count": 65,
   "id": "aab5231f",
   "metadata": {},
   "outputs": [],
   "source": [
    "class Regression:\n",
    "    def __init__(self, learning_rate, iteration, regularization):\n",
    "        \"\"\"\n",
    "        :param learning_rate: A samll value needed for gradient decent, default value id 0.1.\n",
    "        :param iteration: Number of training iteration, default value is 10,000.\n",
    "        \"\"\"\n",
    "        self.m = None\n",
    "        self.n = None\n",
    "        self.w = None\n",
    "        self.b = None\n",
    "        self.regularization = regularization # will be the l1/l2 regularization class according to the regression model.\n",
    "        self.lr = learning_rate\n",
    "        self.it = iteration\n",
    "\n",
    "    def cost_function(self, y, y_pred):\n",
    "        \"\"\"\n",
    "        :param y: Original target value.\n",
    "        :param y_pred: predicted target value.\n",
    "        \"\"\"\n",
    "        # return np.sum(np.square(y_pred - y)) + self.regularization(self.w)\n",
    "        return (1 / (2*self.m)) * np.sum(np.square(y_pred - y)) + self.regularization(self.w)\n",
    "    \n",
    "    def hypothesis(self, weights, bias, X):\n",
    "        \"\"\"\n",
    "        :param weights: parameter value weight.\n",
    "        :param X: Training samples.\n",
    "        \"\"\"\n",
    "        return np.dot(X, weights) #+ bias\n",
    "\n",
    "    def train(self, X, y):\n",
    "        \"\"\"\n",
    "        :param X: training data feature values ---> N Dimentional vector.\n",
    "        :param y: training data target value -----> 1 Dimentional array.\n",
    "        \"\"\"\n",
    "        # Insert constant ones for bias weights.\n",
    "        X = np.insert(X, 0, 1, axis=1)\n",
    "\n",
    "        # Target value should be in the shape of (n, 1) not (n, ).\n",
    "        # So, this will check that and change the shape to (n, 1), if not.\n",
    "        try:\n",
    "            y.shape[1]\n",
    "        except IndexError as e:\n",
    "            # we need to change it to the 1 D array, not a list.\n",
    "            print(\"ERROR: Target array should be a one dimentional array not a list\"\n",
    "                  \"----> here the target value not in the shape of (n,1). \\nShape ({shape_y_0},1) and {shape_y} not match\"\n",
    "                  .format(shape_y_0 = y.shape[0] , shape_y = y.shape))\n",
    "            return \n",
    "        \n",
    "        # m is the number of training samples.\n",
    "        self.m = X.shape[0]\n",
    "        # n is the number of features.\n",
    "        self.n = X.shape[1]\n",
    "\n",
    "        # Set the initial weight.\n",
    "        self.w = np.zeros((self.n , 1)) + 0.01\n",
    "\n",
    "        # bias.\n",
    "        self.b = 0\n",
    "\n",
    "        for it in range(1, self.it+1):\n",
    "            # 1. Find the predicted value through the hypothesis.\n",
    "            # 2. Find the Cost function value.\n",
    "            # 3. Find the derivation of weights.\n",
    "            # 4. Apply Gradient Decent.\n",
    "            y_pred = self.hypothesis(self.w, self.b, X)\n",
    "            #print(\"iteration\",it)\n",
    "            #print(\"y predict value\",y_pred)\n",
    "            cost = self.cost_function(y, y_pred)\n",
    "            #print(\"Cost function\",cost)\n",
    "            # fin the derivative.\n",
    "            dw = np.dot(X.T, (y_pred - y)) + self.regularization.derivation(self.w)\n",
    "            # dw = (1/self.m) * np.dot(X.T, (y_pred - y)) + self.regularization.derivation(self.w)\n",
    "            #print(\"weights derivation\",dw)\n",
    "            #db = -(2 / self.m) * np.sum((y_pred - y))\n",
    "\n",
    "            # change the weight parameter.\n",
    "            self.w = self.w - self.lr * dw\n",
    "            #print(\"updated weights\",self.w)\n",
    "            #self.b = self.b - self.lr * db\n",
    "\n",
    "            if it % 10000 == 0:\n",
    "                print(\"The Cost function for the iteration {}----->{}\".format(it, cost))\n",
    "                \n",
    "    def predict(self, test_X):\n",
    "        \"\"\"\n",
    "        :param test_X: feature values to predict.\n",
    "        \"\"\"\n",
    "        # Insert constant ones for bias weights.\n",
    "        test_X = np.insert(test_X, 0, 1, axis=1)\n",
    "\n",
    "        y_pred = self.hypothesis(self.w, self.b, test_X)\n",
    "        return y_pred"
   ]
  },
  {
   "cell_type": "code",
   "execution_count": 66,
   "id": "cec15dc3",
   "metadata": {},
   "outputs": [],
   "source": [
    "class l1_regularization:\n",
    "    '''Regularization used for Lasso Regression'''\n",
    "    def __init__(self, lamda):\n",
    "        self.lamda = lamda\n",
    "\n",
    "    def __call__(self, weights):\n",
    "        '''This will be retuned when we call this class.'''\n",
    "        return self.lamda * np.sum(np.abs(weights))\n",
    "    \n",
    "    def derivation(self, weights):\n",
    "        \"Derivation of the regulariozation function.\"\n",
    "        return self.lamda * np.sign(weights)\n",
    "    \n",
    "    \n",
    "class l2_regularization:\n",
    "    '''Regularization used for Ridge Regression'''\n",
    "    def __init__(self, lamda):\n",
    "        self.lamda = lamda\n",
    "\n",
    "    def __call__(self, weights):\n",
    "        \"This will be retuned when we call this class.\"\n",
    "        return self.lamda * np.sum(np.square(weights))\n",
    "    \n",
    "    def derivation(self, weights):\n",
    "        \"Derivation of the regulariozation function.\"\n",
    "        return self.lamda * 2 * (weights)"
   ]
  },
  {
   "cell_type": "code",
   "execution_count": 67,
   "id": "5d1e58f8",
   "metadata": {},
   "outputs": [],
   "source": [
    "class LassoRegression(Regression):\n",
    "    '''\n",
    "    '''\n",
    "    def __init__(self, lamda, learning_rate, iteration):\n",
    "        '''\n",
    "        Define the hyperparameters we are going to use in this model.\n",
    "        :param lamda: Regularization factor.\n",
    "        :param learning_rate: A samll value needed for gradient decent, default value id 0.1.\n",
    "        :param iteration: Number of training iteration, default value is 10,000.\n",
    "        '''\n",
    "        self.regularization = l1_regularization(lamda)\n",
    "        super(LassoRegression, self).__init__(learning_rate, iteration, self.regularization)\n",
    "\n",
    "    def train(self, X, y):\n",
    "        '''\n",
    "        :param X: training data feature values ---> N Dimentional vector.\n",
    "        :param y: training data target value -----> 1 Dimentional array.\n",
    "        '''\n",
    "        return super(LassoRegression, self).train(X, y)\n",
    "    \n",
    "    def predict(self, test_X):\n",
    "        '''\n",
    "        parma test_X: Value need to be predicted.\n",
    "        '''\n",
    "        return super(LassoRegression, self).predict(test_X)"
   ]
  },
  {
   "cell_type": "code",
   "execution_count": 68,
   "id": "24137c98",
   "metadata": {},
   "outputs": [],
   "source": [
    "class RidgeRegression(Regression):\n",
    "    '''\n",
    "    Ridge Regression is one of the variance of the Linear Regression. This model doing the parameter learning \n",
    "    and regularization at the same time. This model uses the l2-regularization. \n",
    "    This is very similar to the Lasso regression.\n",
    "    * Regularization will be one of the soluions to the Overfitting.\n",
    "    * Overfitting happens when the model has \"High Variance and low bias\". So, regularization adds a little bias to the model.\n",
    "    * This model will try to keep the balance between learning the parameters and the complexity of the model( tries to keep the parameter having small value and small degree of palinamial).\n",
    "    * The Regularization parameter(lamda) controls how severe  the regularization is. \n",
    "    * large lamda adds more bias , hence the Variance will go very small --> this may cause underfitting(Low bias and High Varinace).\n",
    "    * Lamda can be found by tial and error methos. \n",
    "    '''\n",
    "    def __init__(self, lamda, learning_rate, iteration):\n",
    "        \"\"\"\n",
    "        Define the hyperparameters we are going to use in this model.\n",
    "        :param lamda: Regularization factor.\n",
    "        :param learning_rate: A samll value needed for gradient decent, default value id 0.1.\n",
    "        :param iteration: Number of training iteration, default value is 10,000.\n",
    "        \"\"\"\n",
    "        self.regularization = l2_regularization(lamda)\n",
    "        super(RidgeRegression, self).__init__(learning_rate, iteration, self.regularization)\n",
    "\n",
    "    def train(self, X, y):\n",
    "        \"\"\"\n",
    "        :param X: training data feature values ---> N Dimentional vector.\n",
    "        :param y: training data target value -----> 1 Dimentional array.\n",
    "        \"\"\"\n",
    "        return super(RidgeRegression, self).train(X, y)\n",
    "    def predict(self, test_X):\n",
    "        \"\"\"\n",
    "        parma test_X: Value need to be predicted.\n",
    "        \"\"\"\n",
    "        return super(RidgeRegression, self).predict(test_X)"
   ]
  },
  {
   "cell_type": "code",
   "execution_count": 69,
   "id": "12ed6c82",
   "metadata": {},
   "outputs": [],
   "source": [
    "def predict_scale_labels(y_scale_pred):\n",
    "    '''\n",
    "    Assign label 1 through 4\n",
    "    \n",
    "    arg:\n",
    "    - y_scale_pred: vector of predicted y values\n",
    "    \n",
    "    Returns: vector of predicted y labels (1 through 4)\n",
    "    '''\n",
    "    # generate nx4 matrix where each column is 1,2,3,4\n",
    "    m, _ = y_scale_pred.shape\n",
    "    mat = np.tile(np.arange(4)+1, (m,1))\n",
    "    \n",
    "    # find lowest absolute distance\n",
    "    return np.argmin(abs(mat - y_scale_pred), axis=1).reshape(m, 1)"
   ]
  },
  {
   "cell_type": "markdown",
   "id": "81d1be30",
   "metadata": {},
   "source": [
    "### Estimate Lasso Model"
   ]
  },
  {
   "cell_type": "code",
   "execution_count": 70,
   "id": "7c6ca888",
   "metadata": {},
   "outputs": [],
   "source": [
    "param = {\"lamda\" : 0,\n",
    "         \"learning_rate\" : 0.0000000000000000000001,\n",
    "         \"iteration\" : 500}\n",
    "\n",
    "ridge = RidgeRegression(**param)\n",
    "ridge.train(X, y_scale)\n",
    "\n",
    "# predict\n",
    "y_scale_pred = ridge.predict(X)"
   ]
  },
  {
   "cell_type": "code",
   "execution_count": 71,
   "id": "67163e35",
   "metadata": {},
   "outputs": [
    {
     "name": "stdout",
     "output_type": "stream",
     "text": [
      "---most important features---\n",
      "year_at_y : 0.99999997\n",
      "gap_at_y : 1.00000000\n",
      "self_worth : 1.00000000\n",
      "yob_child : 0.99999997\n",
      "father_present : 1.00000000\n",
      "religion_freq : 1.00000000\n",
      "hgc : 1.00000000\n",
      "woman_place_in_the_home_birth : 1.00000000\n",
      "woman_place_in_the_home_y : 1.00000000\n",
      "wife_w_fam_no_tm_o_emp_birth : 1.00000000\n",
      "wife_w_fam_no_tm_o_emp_y : 1.00000000\n",
      "wrkng_sp_feel_more_useful_birth : 1.00000000\n",
      "wrkng_sp_feel_more_useful_y : 1.00000000\n",
      "emp_wife_lead_juv_delin_birth : 1.00000000\n",
      "emp_wife_lead_juv_delin_y : 1.00000000\n",
      "infl_neces_emp_2_parents_birth : 1.00000000\n",
      "infl_neces_emp_2_parents_y : 1.00000000\n",
      "trade_husband_wife_roles_birth : 1.00000000\n",
      "trade_husband_wife_roles_y : 1.00000000\n",
      "men_should_share_housework_birth : 1.00000000\n",
      "men_should_share_housework_y : 1.00000000\n",
      "women_happier_trade_roles_birth : 1.00000000\n",
      "women_happier_trade_roles_y : 1.00000000\n",
      "hours_works_at_y : 0.99999998\n",
      "num_jobs_ever_at_y : 1.00000000\n",
      "avg_poverty_status : 1.00000000\n",
      "avg_fam_inc : 0.99999855\n",
      "race_child_BLACK : 1.00000000\n",
      "race_child_NON-BLACK, NON-HISPANIC : 1.00000000\n",
      "sex_child_FEMALE : 1.00000000\n",
      "highest_expected_grade_GRADUATE FROM HIGH SCHOOL : 1.00000000\n",
      "highest_expected_grade_GET SOME COLLEGE OR OTHER TRAINING : 1.00000000\n",
      "highest_expected_grade_GRADUATE FROM COLLEGE : 1.00000000\n",
      "highest_expected_grade_GET MORE THAN 4 YEARS OF COLLEGE : 1.00000000\n",
      "highest_expected_grade_SOMETHING ELSE : 1.00000000\n",
      "mother_race_BLACK : 1.00000000\n",
      "mother_race_NON-BLACK, NON-HISPANIC : 1.00000000\n",
      "mother_relig_raised_protestant : 1.00000000\n",
      "mother_relig_raised_catholic : 1.00000000\n",
      "mother_relig_raised_other : 1.00000000\n",
      "mother_relig_current_protestant : 1.00000000\n",
      "mother_relig_current_catholic : 1.00000000\n",
      "mother_relig_current_other : 1.00000000\n"
     ]
    }
   ],
   "source": [
    "X_names = df.columns[(~df.columns.isin([\"child_id\", \"mother_id\", \"treat_alike_scale\", \"treat_alike_binary\"]))]\n",
    "\n",
    "filt = (np.round(lasso.w[1:], 4)>0.0).flatten()\n",
    "b_names = X_names[filt]\n",
    "b_vals  = lasso.w[1:][filt]\n",
    "\n",
    "print(\"---most important features---\")\n",
    "for n, v in zip(b_names, b_vals):\n",
    "    print(n, \":\", '%.08f' % v)"
   ]
  },
  {
   "cell_type": "code",
   "execution_count": 72,
   "id": "4d10d4bb",
   "metadata": {},
   "outputs": [
    {
     "name": "stdout",
     "output_type": "stream",
     "text": [
      "---error rate---\n",
      "96.0666537492734\n",
      "---mean square error ---\n"
     ]
    },
    {
     "data": {
      "text/plain": [
       "590447.9922123874"
      ]
     },
     "execution_count": 72,
     "metadata": {},
     "output_type": "execute_result"
    }
   ],
   "source": [
    "print(\"---error rate---\")\n",
    "y_scale_pred_label = predict_scale_labels(y_scale_pred)\n",
    "print(100*np.sum(y_scale != y_scale_pred_label)/len(y_scale))\n",
    "\n",
    "print(\"---mean square error ---\")\n",
    "mse = (np.square(y_scale - y_scale_pred)).mean(axis=None)\n",
    "mse"
   ]
  },
  {
   "cell_type": "code",
   "execution_count": 73,
   "id": "c7ed393a",
   "metadata": {},
   "outputs": [
    {
     "data": {
      "text/plain": [
       "[Text(0.5, 1.0, 'Prediction by Label')]"
      ]
     },
     "execution_count": 73,
     "metadata": {},
     "output_type": "execute_result"
    },
    {
     "data": {
      "image/png": "[encoded data removed]",
      "text/plain": [
       "<Figure size 432x288 with 1 Axes>"
      ]
     },
     "metadata": {
      "needs_background": "light"
     },
     "output_type": "display_data"
    }
   ],
   "source": [
    "# # visualize results\n",
    "results = pd.DataFrame(data=np.hstack((y_scale, y_scale_pred)),\n",
    "             columns=[\"y\", \"y_pred\"])\n",
    "\n",
    "sns.boxplot(data=results, x='y', y='y_pred').set(title='Prediction by Label')"
   ]
  },
  {
   "cell_type": "markdown",
   "id": "70ce7633",
   "metadata": {},
   "source": [
    "### Estimate Ridge Model"
   ]
  },
  {
   "cell_type": "code",
   "execution_count": 74,
   "id": "5eb250fe",
   "metadata": {},
   "outputs": [],
   "source": [
    "param = {\"lamda\" : 0,\n",
    "         \"learning_rate\" : 0.0000000000000000000001,\n",
    "         \"iteration\" : 500}\n",
    "\n",
    "lasso = RidgeRegression(**param)\n",
    "lasso.train(X, y_scale)\n",
    "\n",
    "# predict\n",
    "y_scale_pred = lasso.predict(X)"
   ]
  },
  {
   "cell_type": "code",
   "execution_count": 75,
   "id": "99e14c98",
   "metadata": {},
   "outputs": [
    {
     "name": "stdout",
     "output_type": "stream",
     "text": [
      "---most important features---\n",
      "year_at_y : 0.01000000\n",
      "gap_at_y : 0.01000000\n",
      "self_worth : 0.01000000\n",
      "yob_child : 0.01000000\n",
      "father_present : 0.01000000\n",
      "religion_freq : 0.01000000\n",
      "hgc : 0.01000000\n",
      "woman_place_in_the_home_birth : 0.01000000\n",
      "woman_place_in_the_home_y : 0.01000000\n",
      "wife_w_fam_no_tm_o_emp_birth : 0.01000000\n",
      "wife_w_fam_no_tm_o_emp_y : 0.01000000\n",
      "wrkng_sp_feel_more_useful_birth : 0.01000000\n",
      "wrkng_sp_feel_more_useful_y : 0.01000000\n",
      "emp_wife_lead_juv_delin_birth : 0.01000000\n",
      "emp_wife_lead_juv_delin_y : 0.01000000\n",
      "infl_neces_emp_2_parents_birth : 0.01000000\n",
      "infl_neces_emp_2_parents_y : 0.01000000\n",
      "trade_husband_wife_roles_birth : 0.01000000\n",
      "trade_husband_wife_roles_y : 0.01000000\n",
      "men_should_share_housework_birth : 0.01000000\n",
      "men_should_share_housework_y : 0.01000000\n",
      "women_happier_trade_roles_birth : 0.01000000\n",
      "women_happier_trade_roles_y : 0.01000000\n",
      "hours_works_at_y : 0.01000000\n",
      "num_jobs_ever_at_y : 0.01000000\n",
      "avg_poverty_status : 0.01000000\n",
      "avg_fam_inc : 0.00999999\n",
      "race_child_BLACK : 0.01000000\n",
      "race_child_NON-BLACK, NON-HISPANIC : 0.01000000\n",
      "sex_child_FEMALE : 0.01000000\n",
      "highest_expected_grade_GRADUATE FROM HIGH SCHOOL : 0.01000000\n",
      "highest_expected_grade_GET SOME COLLEGE OR OTHER TRAINING : 0.01000000\n",
      "highest_expected_grade_GRADUATE FROM COLLEGE : 0.01000000\n",
      "highest_expected_grade_GET MORE THAN 4 YEARS OF COLLEGE : 0.01000000\n",
      "highest_expected_grade_SOMETHING ELSE : 0.01000000\n",
      "mother_race_BLACK : 0.01000000\n",
      "mother_race_NON-BLACK, NON-HISPANIC : 0.01000000\n",
      "mother_relig_raised_protestant : 0.01000000\n",
      "mother_relig_raised_catholic : 0.01000000\n",
      "mother_relig_raised_other : 0.01000000\n",
      "mother_relig_current_protestant : 0.01000000\n",
      "mother_relig_current_catholic : 0.01000000\n",
      "mother_relig_current_other : 0.01000000\n"
     ]
    }
   ],
   "source": [
    "X_names = df.columns[(~df.columns.isin([\"child_id\", \"mother_id\", \"treat_alike_scale\", \"treat_alike_binary\"]))]\n",
    "\n",
    "filt = (np.round(ridge.w[1:], 4)>0.0).flatten()\n",
    "b_names = X_names[filt]\n",
    "b_vals  = ridge.w[1:][filt]\n",
    "\n",
    "print(\"---most important features---\")\n",
    "for n, v in zip(b_names, b_vals):\n",
    "    print(n, \":\", '%.08f' % v)"
   ]
  },
  {
   "cell_type": "code",
   "execution_count": 76,
   "id": "0d658c80",
   "metadata": {},
   "outputs": [
    {
     "name": "stdout",
     "output_type": "stream",
     "text": [
      "---error rate---\n",
      "96.0666537492734\n",
      "---mean square error ---\n"
     ]
    },
    {
     "data": {
      "text/plain": [
       "590447.9922123874"
      ]
     },
     "execution_count": 76,
     "metadata": {},
     "output_type": "execute_result"
    }
   ],
   "source": [
    "print(\"---error rate---\")\n",
    "y_scale_pred_label = predict_scale_labels(y_scale_pred)\n",
    "print(100*np.sum(y_scale != y_scale_pred_label)/len(y_scale))\n",
    "\n",
    "print(\"---mean square error ---\")\n",
    "mse = (np.square(y_scale - y_scale_pred)).mean(axis=None)\n",
    "mse"
   ]
  },
  {
   "cell_type": "code",
   "execution_count": 77,
   "id": "72735562",
   "metadata": {},
   "outputs": [
    {
     "data": {
      "text/plain": [
       "[Text(0.5, 1.0, 'Prediction by Label')]"
      ]
     },
     "execution_count": 77,
     "metadata": {},
     "output_type": "execute_result"
    },
    {
     "data": {
      "image/png": "[encoded data removed]",
      "text/plain": [
       "<Figure size 432x288 with 1 Axes>"
      ]
     },
     "metadata": {
      "needs_background": "light"
     },
     "output_type": "display_data"
    }
   ],
   "source": [
    "# # visualize results\n",
    "results = pd.DataFrame(data=np.hstack((y_scale, y_scale_pred)),\n",
    "             columns=[\"y\", \"y_pred\"])\n",
    "\n",
    "sns.boxplot(data=results, x='y', y='y_pred').set(title='Prediction by Label')"
   ]
  },
  {
   "cell_type": "markdown",
   "id": "3bd927c2",
   "metadata": {},
   "source": [
    "# Lasso Package"
   ]
  },
  {
   "cell_type": "code",
   "execution_count": 78,
   "id": "3b1d17a2",
   "metadata": {},
   "outputs": [],
   "source": [
    "from sklearn.linear_model import Lasso"
   ]
  },
  {
   "cell_type": "code",
   "execution_count": 79,
   "id": "a254a1d8",
   "metadata": {},
   "outputs": [
    {
     "name": "stderr",
     "output_type": "stream",
     "text": [
      "C:\\Users\\nived\\AppData\\Local\\Temp/ipykernel_24636/4217246428.py:2: UserWarning: With alpha=0, this algorithm does not converge well. You are advised to use the LinearRegression estimator\n",
      "  lasso_sklearn.fit(X, y_scale)\n",
      "C:\\ProgramData\\Anaconda3\\lib\\site-packages\\sklearn\\linear_model\\_coordinate_descent.py:530: UserWarning: Coordinate descent with no regularization may lead to unexpected results and is discouraged.\n",
      "  model = cd_fast.enet_coordinate_descent(\n",
      "C:\\ProgramData\\Anaconda3\\lib\\site-packages\\sklearn\\linear_model\\_coordinate_descent.py:530: ConvergenceWarning: Objective did not converge. You might want to increase the number of iterations. Duality gap: 1039.4892452078498, tolerance: 0.21572082929664804\n",
      "  model = cd_fast.enet_coordinate_descent(\n"
     ]
    }
   ],
   "source": [
    "lasso_sklearn = Lasso(alpha=0.0)\n",
    "lasso_sklearn.fit(X, y_scale)\n",
    "\n",
    "# predict the value\n",
    "y_pred_sklearn = lasso_sklearn.predict(X)"
   ]
  },
  {
   "cell_type": "code",
   "execution_count": 80,
   "id": "5504496b",
   "metadata": {},
   "outputs": [
    {
     "data": {
      "text/plain": [
       "array([[0.01      ],\n",
       "       [0.01      ],\n",
       "       [0.01      ],\n",
       "       [0.01      ],\n",
       "       [0.01      ],\n",
       "       [0.01      ],\n",
       "       [0.01      ],\n",
       "       [0.01      ],\n",
       "       [0.01      ],\n",
       "       [0.01      ],\n",
       "       [0.01      ],\n",
       "       [0.01      ],\n",
       "       [0.01      ],\n",
       "       [0.01      ],\n",
       "       [0.01      ],\n",
       "       [0.01      ],\n",
       "       [0.01      ],\n",
       "       [0.01      ],\n",
       "       [0.01      ],\n",
       "       [0.01      ],\n",
       "       [0.01      ],\n",
       "       [0.01      ],\n",
       "       [0.01      ],\n",
       "       [0.01      ],\n",
       "       [0.01      ],\n",
       "       [0.01      ],\n",
       "       [0.01      ],\n",
       "       [0.00999999],\n",
       "       [0.01      ],\n",
       "       [0.01      ],\n",
       "       [0.01      ],\n",
       "       [0.01      ],\n",
       "       [0.01      ],\n",
       "       [0.01      ],\n",
       "       [0.01      ],\n",
       "       [0.01      ],\n",
       "       [0.01      ],\n",
       "       [0.01      ],\n",
       "       [0.01      ],\n",
       "       [0.01      ],\n",
       "       [0.01      ],\n",
       "       [0.01      ],\n",
       "       [0.01      ],\n",
       "       [0.01      ]])"
      ]
     },
     "execution_count": 80,
     "metadata": {},
     "output_type": "execute_result"
    }
   ],
   "source": [
    "lasso.w"
   ]
  },
  {
   "cell_type": "code",
   "execution_count": 86,
   "id": "a32f4390",
   "metadata": {},
   "outputs": [
    {
     "data": {
      "text/plain": [
       "array([ 0.001,  0.014, -0.001,  0.   ,  0.014,  0.015, -0.001,  0.008,\n",
       "       -0.006,  0.012, -0.015, -0.01 ,  0.011,  0.   , -0.004, -0.009,\n",
       "       -0.002,  0.007, -0.022,  0.018, -0.012,  0.014,  0.018,  0.   ,\n",
       "       -0.003,  0.069, -0.   ,  0.01 , -0.073, -0.065, -0.22 , -0.289,\n",
       "       -0.304, -0.362, -0.31 , -0.058, -0.022,  0.043, -0.029,  0.014,\n",
       "        0.008, -0.003, -0.001])"
      ]
     },
     "execution_count": 86,
     "metadata": {},
     "output_type": "execute_result"
    }
   ],
   "source": [
    "np.round(lasso_sklearn.coef_,3)"
   ]
  },
  {
   "cell_type": "code",
   "execution_count": 82,
   "id": "23d93378",
   "metadata": {},
   "outputs": [
    {
     "data": {
      "text/plain": [
       "2.038457258659307"
      ]
     },
     "execution_count": 82,
     "metadata": {},
     "output_type": "execute_result"
    }
   ],
   "source": [
    "np.max(y_pred_sklearn)"
   ]
  }
 ],
 "metadata": {
  "kernelspec": {
   "display_name": "Python 3 (ipykernel)",
   "language": "python",
   "name": "python3"
  },
  "language_info": {
   "codemirror_mode": {
    "name": "ipython",
    "version": 3
   },
   "file_extension": ".py",
   "mimetype": "text/x-python",
   "name": "python",
   "nbconvert_exporter": "python",
   "pygments_lexer": "ipython3",
   "version": "3.9.7"
  }
 },
 "nbformat": 4,
 "nbformat_minor": 5
}
