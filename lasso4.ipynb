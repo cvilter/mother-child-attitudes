{
 "cells": [
  {
   "cell_type": "markdown",
   "id": "5f19a432",
   "metadata": {},
   "source": [
    "## CMSC 35300 Final Project: Lasso Models\n",
    "Shweta Kamath <br>\n",
    "Nivedita Vatsa <br>\n",
    "Carolyn Vilter"
   ]
  },
  {
   "cell_type": "markdown",
   "id": "bf44aa39",
   "metadata": {},
   "source": [
    "#### Setup"
   ]
  },
  {
   "cell_type": "markdown",
   "id": "6451aafc",
   "metadata": {},
   "source": [
    "Source: https://www.kaggle.com/code/mcweng24/lasso-regression-using-numpy"
   ]
  },
  {
   "cell_type": "code",
   "execution_count": 20,
   "id": "152ce23f",
   "metadata": {},
   "outputs": [],
   "source": [
    "import pandas as pd\n",
    "import numpy as np\n",
    "import matplotlib.pyplot as pltb\n",
    "import seaborn as sns"
   ]
  },
  {
   "cell_type": "code",
   "execution_count": 21,
   "id": "6f4447c7",
   "metadata": {},
   "outputs": [],
   "source": [
    "import scipy.io as sio"
   ]
  },
  {
   "cell_type": "code",
   "execution_count": 22,
   "id": "ecafe574",
   "metadata": {},
   "outputs": [],
   "source": [
    "# Import data\n",
    "df = pd.read_csv(\"data/all_data_standardized.csv\")"
   ]
  },
  {
   "cell_type": "code",
   "execution_count": 23,
   "id": "035b2290",
   "metadata": {},
   "outputs": [],
   "source": [
    "# Separate out Xs\n",
    "X = df.loc[:, ~df.columns.isin([\"child_id\", \"mother_id\", \"treat_alike_scale\", \"treat_alike_binary\"])]\n",
    "X = X.to_numpy()\n",
    "\n",
    "# add columns of 1s\n",
    "X = np.hstack((np.ones((len(X), 1)), X))\n",
    "\n",
    "# Separate out two prospective ys\n",
    "y_scale = df.loc[:, df.columns == \"treat_alike_scale\"]\n",
    "y_scale = y_scale.to_numpy()\n",
    "\n",
    "y_binary = df.loc[:, df.columns == \"treat_alike_binary\"]\n",
    "y_binary = y_binary.to_numpy()"
   ]
  },
  {
   "cell_type": "code",
   "execution_count": 32,
   "id": "85350e57",
   "metadata": {},
   "outputs": [],
   "source": [
    "# matlab_data_file = sio.loadmat('face_emotion_data.mat')\n",
    "# X = matlab_data_file['X']\n",
    "# y_scale = matlab_data_file['y']"
   ]
  },
  {
   "cell_type": "code",
   "execution_count": 45,
   "id": "3e209b94",
   "metadata": {},
   "outputs": [],
   "source": [
    "# # load data, make sure ‘fisheriris.mat‘ is in your working directory\n",
    "# data = sio.loadmat(\"fisheriris.mat\")\n",
    "\n",
    "# # training data\n",
    "# X = data['meas']\n",
    "# y_scale = data['species']"
   ]
  },
  {
   "cell_type": "markdown",
   "id": "590d07bb",
   "metadata": {},
   "source": [
    "### Lasso Regression\n",
    "Predict repeatedly using cross validation; plot test error."
   ]
  },
  {
   "cell_type": "code",
   "execution_count": 25,
   "id": "082ba01a",
   "metadata": {},
   "outputs": [],
   "source": [
    "def predicted_values(X, w):\n",
    "    # X will be n x (d+1)\n",
    "    # w will be (d+1) x 1\n",
    "    predictions = np.dot(X, w) # n x 1\n",
    "    return(predictions)\n",
    "\n",
    "\n",
    "def rho_compute(y,X,w,j):\n",
    "    #y is the response variable\n",
    "    #X is the predictor variables matrix\n",
    "    #w is the weight vector\n",
    "    #j is the feature selector\n",
    "    X_k = np.delete(X,j,1) #Remove the j variable i.e. j column\n",
    "    w_k = np.delete(w,j) #Remove the weight j\n",
    "    predict_k = predicted_values(X_k, w_k)\n",
    "    residual = y - predict_k\n",
    "    rho_j = np.sum(X[:,j]*residual)\n",
    "    return(rho_j)\n",
    "\n",
    "\n",
    "#z computation for unnormalised features\n",
    "def z_compute(X):\n",
    "    z_vector = np.sum(X*X, axis = 0) #Compute sum for each column\n",
    "    return(z_vector)\n",
    "\n",
    "\n",
    "def coordinate_descent(y,X,w,alpha,z,tolerance):\n",
    "    max_step = 100.\n",
    "    iteration = 0\n",
    "    while(max_step > tolerance):\n",
    "        iteration += 1\n",
    "        #print(\"Iteration (start) : \",iteration)\n",
    "        old_weights = np.copy(w)\n",
    "        #print(\"\\nOld Weights\\n\",old_weights)\n",
    "        for j in range(len(w)): #Take the number of features ie columns\n",
    "            rho_j = rho_compute(y,X,w,j)\n",
    "            if j == 0: #Intercept is not included with the alpha regularisation\n",
    "                w[j] = rho_j/z[j]\n",
    "            elif rho_j < -alpha*len(y):\n",
    "                w[j] = (rho_j + (alpha*len(y)))/z[j]\n",
    "            elif rho_j > -alpha*len(y) and rho_j < alpha*len(y):\n",
    "                w[j] = 0.\n",
    "            elif rho_j > alpha*len(y):\n",
    "                w[j] = (rho_j - (alpha*len(y)))/z[j]\n",
    "            else:\n",
    "                w[j] = np.NaN\n",
    "        #print(\"\\nNew Weights\\n\",w)\n",
    "        step_sizes = abs(old_weights - w)\n",
    "        #print(\"\\nStep sizes\\n\",step_sizes)\n",
    "        max_step = step_sizes.max()\n",
    "        #print(\"\\nMax step:\",max_step)\n",
    "        \n",
    "        \n",
    "    return(w, iteration, max_step)"
   ]
  },
  {
   "cell_type": "code",
   "execution_count": 46,
   "id": "0bec0049",
   "metadata": {},
   "outputs": [],
   "source": [
    "w = np.zeros(X.shape[1], dtype = float) # initialize w\n",
    "z = z_compute(X) # pre-compute the z_j term\n",
    "\n",
    "\n",
    "# set the alpha and tolerance level\n",
    "alpha = 0.0\n",
    "tolerance = 0.0000001"
   ]
  },
  {
   "cell_type": "code",
   "execution_count": 50,
   "id": "b5965a23",
   "metadata": {},
   "outputs": [
    {
     "ename": "UFuncTypeError",
     "evalue": "ufunc 'subtract' did not contain a loop with signature matching types (dtype('<U32'), dtype('<U32')) -> dtype('<U32')",
     "output_type": "error",
     "traceback": [
      "\u001b[1;31m---------------------------------------------------------------------------\u001b[0m",
      "\u001b[1;31mUFuncTypeError\u001b[0m                            Traceback (most recent call last)",
      "\u001b[1;32m~\\AppData\\Local\\Temp/ipykernel_28168/2845685855.py\u001b[0m in \u001b[0;36m<module>\u001b[1;34m\u001b[0m\n\u001b[1;32m----> 1\u001b[1;33m \u001b[0mw_opt\u001b[0m\u001b[1;33m,\u001b[0m \u001b[0miterations\u001b[0m\u001b[1;33m,\u001b[0m \u001b[0mmax_step\u001b[0m \u001b[1;33m=\u001b[0m \u001b[0mcoordinate_descent\u001b[0m\u001b[1;33m(\u001b[0m\u001b[0my_scale\u001b[0m\u001b[1;33m,\u001b[0m \u001b[0mX\u001b[0m\u001b[1;33m,\u001b[0m \u001b[0mw\u001b[0m\u001b[1;33m,\u001b[0m \u001b[0malpha\u001b[0m\u001b[1;33m,\u001b[0m \u001b[0mz\u001b[0m\u001b[1;33m,\u001b[0m \u001b[0mtolerance\u001b[0m\u001b[1;33m)\u001b[0m\u001b[1;33m\u001b[0m\u001b[1;33m\u001b[0m\u001b[0m\n\u001b[0m",
      "\u001b[1;32m~\\AppData\\Local\\Temp/ipykernel_28168/238836842.py\u001b[0m in \u001b[0;36mcoordinate_descent\u001b[1;34m(y, X, w, alpha, z, tolerance)\u001b[0m\n\u001b[0;32m     34\u001b[0m         \u001b[1;31m#print(\"\\nOld Weights\\n\",old_weights)\u001b[0m\u001b[1;33m\u001b[0m\u001b[1;33m\u001b[0m\u001b[0m\n\u001b[0;32m     35\u001b[0m         \u001b[1;32mfor\u001b[0m \u001b[0mj\u001b[0m \u001b[1;32min\u001b[0m \u001b[0mrange\u001b[0m\u001b[1;33m(\u001b[0m\u001b[0mlen\u001b[0m\u001b[1;33m(\u001b[0m\u001b[0mw\u001b[0m\u001b[1;33m)\u001b[0m\u001b[1;33m)\u001b[0m\u001b[1;33m:\u001b[0m \u001b[1;31m#Take the number of features ie columns\u001b[0m\u001b[1;33m\u001b[0m\u001b[1;33m\u001b[0m\u001b[0m\n\u001b[1;32m---> 36\u001b[1;33m             \u001b[0mrho_j\u001b[0m \u001b[1;33m=\u001b[0m \u001b[0mrho_compute\u001b[0m\u001b[1;33m(\u001b[0m\u001b[0my\u001b[0m\u001b[1;33m,\u001b[0m\u001b[0mX\u001b[0m\u001b[1;33m,\u001b[0m\u001b[0mw\u001b[0m\u001b[1;33m,\u001b[0m\u001b[0mj\u001b[0m\u001b[1;33m)\u001b[0m\u001b[1;33m\u001b[0m\u001b[1;33m\u001b[0m\u001b[0m\n\u001b[0m\u001b[0;32m     37\u001b[0m             \u001b[1;32mif\u001b[0m \u001b[0mj\u001b[0m \u001b[1;33m==\u001b[0m \u001b[1;36m0\u001b[0m\u001b[1;33m:\u001b[0m \u001b[1;31m#Intercept is not included with the alpha regularisation\u001b[0m\u001b[1;33m\u001b[0m\u001b[1;33m\u001b[0m\u001b[0m\n\u001b[0;32m     38\u001b[0m                 \u001b[0mw\u001b[0m\u001b[1;33m[\u001b[0m\u001b[0mj\u001b[0m\u001b[1;33m]\u001b[0m \u001b[1;33m=\u001b[0m \u001b[0mrho_j\u001b[0m\u001b[1;33m/\u001b[0m\u001b[0mz\u001b[0m\u001b[1;33m[\u001b[0m\u001b[0mj\u001b[0m\u001b[1;33m]\u001b[0m\u001b[1;33m\u001b[0m\u001b[1;33m\u001b[0m\u001b[0m\n",
      "\u001b[1;32m~\\AppData\\Local\\Temp/ipykernel_28168/238836842.py\u001b[0m in \u001b[0;36mrho_compute\u001b[1;34m(y, X, w, j)\u001b[0m\n\u001b[0;32m     14\u001b[0m     \u001b[0mw_k\u001b[0m \u001b[1;33m=\u001b[0m \u001b[0mnp\u001b[0m\u001b[1;33m.\u001b[0m\u001b[0mdelete\u001b[0m\u001b[1;33m(\u001b[0m\u001b[0mw\u001b[0m\u001b[1;33m,\u001b[0m\u001b[0mj\u001b[0m\u001b[1;33m)\u001b[0m \u001b[1;31m#Remove the weight j\u001b[0m\u001b[1;33m\u001b[0m\u001b[1;33m\u001b[0m\u001b[0m\n\u001b[0;32m     15\u001b[0m     \u001b[0mpredict_k\u001b[0m \u001b[1;33m=\u001b[0m \u001b[0mpredicted_values\u001b[0m\u001b[1;33m(\u001b[0m\u001b[0mX_k\u001b[0m\u001b[1;33m,\u001b[0m \u001b[0mw_k\u001b[0m\u001b[1;33m)\u001b[0m\u001b[1;33m\u001b[0m\u001b[1;33m\u001b[0m\u001b[0m\n\u001b[1;32m---> 16\u001b[1;33m     \u001b[0mresidual\u001b[0m \u001b[1;33m=\u001b[0m \u001b[0my\u001b[0m \u001b[1;33m-\u001b[0m \u001b[0mpredict_k\u001b[0m\u001b[1;33m\u001b[0m\u001b[1;33m\u001b[0m\u001b[0m\n\u001b[0m\u001b[0;32m     17\u001b[0m     \u001b[0mrho_j\u001b[0m \u001b[1;33m=\u001b[0m \u001b[0mnp\u001b[0m\u001b[1;33m.\u001b[0m\u001b[0msum\u001b[0m\u001b[1;33m(\u001b[0m\u001b[0mX\u001b[0m\u001b[1;33m[\u001b[0m\u001b[1;33m:\u001b[0m\u001b[1;33m,\u001b[0m\u001b[0mj\u001b[0m\u001b[1;33m]\u001b[0m\u001b[1;33m*\u001b[0m\u001b[0mresidual\u001b[0m\u001b[1;33m)\u001b[0m\u001b[1;33m\u001b[0m\u001b[1;33m\u001b[0m\u001b[0m\n\u001b[0;32m     18\u001b[0m     \u001b[1;32mreturn\u001b[0m\u001b[1;33m(\u001b[0m\u001b[0mrho_j\u001b[0m\u001b[1;33m)\u001b[0m\u001b[1;33m\u001b[0m\u001b[1;33m\u001b[0m\u001b[0m\n",
      "\u001b[1;31mUFuncTypeError\u001b[0m: ufunc 'subtract' did not contain a loop with signature matching types (dtype('<U32'), dtype('<U32')) -> dtype('<U32')"
     ]
    }
   ],
   "source": [
    "w_opt, iterations, max_step = coordinate_descent(y_scale, X, w, alpha, z, tolerance)"
   ]
  },
  {
   "cell_type": "code",
   "execution_count": 43,
   "id": "b2d52e43",
   "metadata": {},
   "outputs": [
    {
     "name": "stdout",
     "output_type": "stream",
     "text": [
      "[-2.59990365e+295  2.04102411e+297 -2.49954287e+299  3.04779224e+301\n",
      " -1.52466460e+303  1.63173460e+305             -inf              nan\n",
      "              nan]\n",
      "19\n",
      "nan\n"
     ]
    }
   ],
   "source": [
    "print(w_opt)\n",
    "print(iterations)\n",
    "print(max_step)"
   ]
  }
 ],
 "metadata": {
  "kernelspec": {
   "display_name": "Python 3 (ipykernel)",
   "language": "python",
   "name": "python3"
  },
  "language_info": {
   "codemirror_mode": {
    "name": "ipython",
    "version": 3
   },
   "file_extension": ".py",
   "mimetype": "text/x-python",
   "name": "python",
   "nbconvert_exporter": "python",
   "pygments_lexer": "ipython3",
   "version": "3.9.7"
  }
 },
 "nbformat": 4,
 "nbformat_minor": 5
}
